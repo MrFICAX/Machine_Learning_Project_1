{
 "cells": [
  {
   "attachments": {},
   "cell_type": "markdown",
   "metadata": {},
   "source": [
    "# Imported libraries"
   ]
  },
  {
   "cell_type": "code",
   "execution_count": 3,
   "metadata": {},
   "outputs": [],
   "source": [
    "#SSS\n",
    "import pandas as pd\n",
    "import seaborn as sns \n",
    "from scipy import stats\n",
    "from sklearn.preprocessing import MinMaxScaler\n",
    "import matplotlib.pyplot as plt\n",
    "import statistics\n",
    "import numpy as np\n",
    "import statistics\n",
    "from sklearn.preprocessing import OneHotEncoder\n",
    "from sklearn.compose import make_column_transformer\n",
    "from sklearn.preprocessing import OrdinalEncoder\n",
    "from sklearn.linear_model import LinearRegression\n",
    "from sklearn.metrics import mean_squared_error\n",
    "from sklearn.ensemble import RandomForestRegressor      \n",
    "from sklearn.tree import DecisionTreeRegressor\n",
    "from sklearn.metrics import mean_absolute_error\n",
    "from sklearn.model_selection import train_test_split\n",
    "from sklearn.linear_model import SGDRegressor\n",
    "from sklearn.impute import SimpleImputer\n",
    "from sklearn.pipeline import Pipeline\n",
    "from sklearn.ensemble import RandomForestRegressor\n",
    "from sklearn.model_selection import cross_val_score\n",
    "from sklearn.model_selection import StratifiedKFold\n",
    "from sklearn.linear_model import LogisticRegression\n",
    "from sklearn.neighbors import KNeighborsRegressor\n",
    "from sklearn.naive_bayes import GaussianNB\n",
    "from sklearn.svm import LinearSVR\n",
    "\n",
    "#Spajanje vise skupova podataka\n",
    "data=pd.read_csv(\"Metro_Interstate_Traffic_Volume.csv\")\n",
    "\n"
   ]
  },
  {
   "attachments": {},
   "cell_type": "markdown",
   "metadata": {},
   "source": [
    "## Printing data example"
   ]
  },
  {
   "cell_type": "code",
   "execution_count": null,
   "metadata": {},
   "outputs": [],
   "source": [
    "#prikaz podataka\n",
    "data.head()"
   ]
  },
  {
   "attachments": {},
   "cell_type": "markdown",
   "metadata": {},
   "source": [
    "## Showing data types"
   ]
  },
  {
   "cell_type": "code",
   "execution_count": null,
   "metadata": {},
   "outputs": [],
   "source": [
    "#Tipovi podataka\n",
    "data.dtypes\n",
    "#ocigledno ce biti potrebna konverzija nekih podataka"
   ]
  },
  {
   "attachments": {},
   "cell_type": "markdown",
   "metadata": {},
   "source": [
    "## Showing data info"
   ]
  },
  {
   "cell_type": "code",
   "execution_count": null,
   "metadata": {},
   "outputs": [],
   "source": [
    "#informacije o podacima\n",
    "data.info()\n",
    "#imamo informaciju o tome da nema null podataka"
   ]
  },
  {
   "attachments": {},
   "cell_type": "markdown",
   "metadata": {},
   "source": [
    "### Checking for missing values"
   ]
  },
  {
   "cell_type": "code",
   "execution_count": null,
   "metadata": {},
   "outputs": [],
   "source": [
    "#provera da li ima missing values\n",
    "data.isna().sum()"
   ]
  },
  {
   "attachments": {},
   "cell_type": "markdown",
   "metadata": {},
   "source": [
    "### Dropping duplicates"
   ]
  },
  {
   "cell_type": "code",
   "execution_count": null,
   "metadata": {},
   "outputs": [],
   "source": [
    "#brisanje duplikata\n",
    "data.duplicated(subset=None, keep='first')\n",
    "#data.drop_duplicates(subset=None, keep='first')"
   ]
  },
  {
   "attachments": {},
   "cell_type": "markdown",
   "metadata": {},
   "source": [
    "### Scaling 'clouds_all' data"
   ]
  },
  {
   "cell_type": "code",
   "execution_count": null,
   "metadata": {},
   "outputs": [],
   "source": [
    "# scaler = MinMaxScaler()\n",
    "\n",
    "#     #Scaling cloud data\n",
    "# data[['clouds_all']] = scaler.fit_transform(data[['clouds_all']])\n",
    "#     #Scaling of temperature data\n",
    "# data[['temp']]=scaler.fit_transform(data[['temp']])"
   ]
  },
  {
   "attachments": {},
   "cell_type": "markdown",
   "metadata": {},
   "source": [
    "# Descriptive analytics"
   ]
  },
  {
   "cell_type": "code",
   "execution_count": null,
   "metadata": {},
   "outputs": [],
   "source": [
    "    #1 Mean of rain in millimeters per one hour \n",
    "\n",
    "averageRain = data['rain_1h'].mean()\n",
    "print(\"Average rain per 1h: \" + str(averageRain)) \n",
    "\n",
    "    #2 Mean of traffic volume \n",
    "averageTrafficVolume = data['traffic_volume'].mean()\n",
    "print(\"Average traffic volume: \" + str(averageTrafficVolume)) \n",
    "\n",
    "    #Harmonic mean\n",
    "hmean = statistics.harmonic_mean(data['traffic_volume'])\n",
    "print(\"Harmonic mean traffic volume: \" + str(hmean)) \n",
    "\n",
    "    #3 Median of falling snow in 1h\n",
    "medianSnow = data['snow_1h'].median()\n",
    "print(\"Median snow on 1h: \", medianSnow)\n",
    "\n",
    "    #4 Median of traffic volume\n",
    "medianTrafficVolume = data['traffic_volume'].median()\n",
    "print(\"Median traffic volume: \" + str(medianTrafficVolume)) \n",
    "\n",
    "    #5 Standard deviation of traffic volume\n",
    "standard_deviation = data['traffic_volume'].std()\n",
    "print(\"Standard deviation of traffic volume: \", standard_deviation)\n",
    "\n",
    "    #6 Standard deviation of temperature\n",
    "standard_deviation = data['temp'].std()\n",
    "print(\"Standard deviation of temp: \", standard_deviation)\n",
    "\n",
    "#data.head(3000)\n",
    "#data[['clouds_all']]\n",
    "\n",
    "    #Converting temperature from Kelvin to Celsius\n",
    "#data['Temperature'] = data['temp'].subtract(273.16)\n",
    "\n",
    "\n",
    "    #Output sMinimum and Maximum Temperature\n",
    "minTemp = data['temp'].min()\n",
    "maxTemp = data['temp'].max()\n",
    "print(\"Minimum temperature: \", minTemp, \"Maximum temperature: \", maxTemp)\n",
    "\n",
    "    #range of data - difference between inimum and maximum\n",
    "rangee=np.ptp(data['traffic_volume'])\n",
    "print(\"range guzve je:\", rangee)\n",
    "\n",
    "rangee=np.ptp(data['temp'])\n",
    "print(\"range temperature je:\", rangee)\n",
    "\n",
    "\n",
    "\n",
    "    #Mode\n",
    "mode = data['traffic_volume'].mode()\n",
    "print(\"Mode of traffic volume: \", mode)\n",
    "\n",
    "variance = statistics.variance(data['traffic_volume'])\n",
    "print(\"Variance of traffic volume: \", variance)"
   ]
  },
  {
   "attachments": {},
   "cell_type": "markdown",
   "metadata": {},
   "source": [
    "### Describing target data"
   ]
  },
  {
   "cell_type": "code",
   "execution_count": null,
   "metadata": {},
   "outputs": [],
   "source": [
    "#opis podataka\n",
    "#scipy describe\n",
    "result = stats.describe(data['traffic_volume'], ddof=1, bias=False)\n",
    "print(str(result))\n",
    "#pandas describe\n",
    "data.describe()"
   ]
  },
  {
   "attachments": {},
   "cell_type": "markdown",
   "metadata": {},
   "source": [
    "### Describing object data"
   ]
  },
  {
   "cell_type": "code",
   "execution_count": null,
   "metadata": {},
   "outputs": [],
   "source": [
    "#opis objekata\n",
    "\n",
    "#pandas describe objects\n",
    "data.describe(include='object')"
   ]
  },
  {
   "attachments": {},
   "cell_type": "markdown",
   "metadata": {},
   "source": [
    "### Checking 'date_time' data"
   ]
  },
  {
   "cell_type": "code",
   "execution_count": null,
   "metadata": {},
   "outputs": [],
   "source": [
    "# pocetak i kraj zapisa podataka\n",
    "print(\"Start :\" +data['date_time'].max())\n",
    "print(\"End :\" +data['date_time'].min())"
   ]
  },
  {
   "attachments": {},
   "cell_type": "markdown",
   "metadata": {},
   "source": [
    "### Checking 'weather_main' data by temperature"
   ]
  },
  {
   "cell_type": "code",
   "execution_count": null,
   "metadata": {},
   "outputs": [],
   "source": [
    "%matplotlib inline\n",
    "sns.set(style=\"whitegrid\")\n",
    "plt.figure(figsize=(16,5))\n",
    "ax = sns.boxplot( x=\"weather_main\", y=\"temp\", data=data, orient=\"v\")"
   ]
  },
  {
   "attachments": {},
   "cell_type": "markdown",
   "metadata": {},
   "source": [
    "### Pie plotting 'weather_description' data"
   ]
  },
  {
   "cell_type": "code",
   "execution_count": null,
   "metadata": {},
   "outputs": [],
   "source": [
    "type_counts = data['weather_description'].value_counts()\n",
    "df2 = pd.DataFrame({'weather_description': type_counts}, \n",
    "                     index = ['scattered clouds', 'broken clouds', 'overcast clouds', 'sky is clear',\n",
    "    'few clouds', 'light rain', 'light intensity drizzle', 'mist', 'haze', 'fog',\n",
    "    'proximity shower rain', 'drizzle', 'moderate rain', 'heavy intensity rain',\n",
    "    'proximity thunderstorm', 'thunderstorm with light rain',\n",
    "    'proximity thunderstorm with rain', 'heavy snow', 'heavy intensity drizzle',\n",
    "    'snow', 'thunderstorm with heavy rain', 'freezing rain', 'shower snow',\n",
    "    'light rain and snow', 'light intensity shower rain', 'SQUALLS',\n",
    "    'thunderstorm with rain', 'proximity thunderstorm with drizzle',\n",
    "    'thunderstorm', 'Sky is Clear', 'very heavy rain',\n",
    "    'thunderstorm with light drizzle', 'light snow',\n",
    "    'thunderstorm with drizzle', 'smoke', 'shower drizzle', 'light shower snow',\n",
    "    'sleet'])\n",
    "df2.plot.pie(y='weather_description', figsize=(10,10), autopct='%1.1f%%')"
   ]
  },
  {
   "attachments": {},
   "cell_type": "markdown",
   "metadata": {},
   "source": [
    "### Countplotting holiday data"
   ]
  },
  {
   "cell_type": "code",
   "execution_count": null,
   "metadata": {},
   "outputs": [],
   "source": [
    "plt.figure(figsize = (8,6))\n",
    "sns.countplot(y='holiday', data = data)\n",
    "plt.show()"
   ]
  },
  {
   "attachments": {},
   "cell_type": "markdown",
   "metadata": {},
   "source": [
    "### Countplotting holiday data excluding 'None'"
   ]
  },
  {
   "cell_type": "code",
   "execution_count": null,
   "metadata": {},
   "outputs": [],
   "source": [
    "#'None' predstavlja problem, ali i resenje, jer ga ima mnogo vise od ostalih dana\n",
    "holidays = data.loc[data['holiday'] != 'None']\n",
    "plt.figure(figsize=(8,6))\n",
    "sns.countplot(y='holiday', data= holidays)\n",
    "plt.show()\n",
    "#ovaj prikaz je znatno bolji i daje prikaz o praznicima, obzirom na to da su praznici svake godine na isti dan, jasno je da je broj slican"
   ]
  },
  {
   "attachments": {},
   "cell_type": "markdown",
   "metadata": {},
   "source": [
    "### Boxplotting temperature data"
   ]
  },
  {
   "cell_type": "code",
   "execution_count": null,
   "metadata": {},
   "outputs": [],
   "source": [
    "#prikaz podataka o temperaturi\n",
    "plt.figure(figsize=(6,4))\n",
    "sns.boxplot(x='temp', data = data)\n",
    "plt.show()\n",
    "#iz prikaza je jasno da postoji oversempling koji oze da utice na mean vrednost"
   ]
  },
  {
   "attachments": {},
   "cell_type": "markdown",
   "metadata": {},
   "source": [
    "### Temperature switch from Kelvin to Celsius "
   ]
  },
  {
   "cell_type": "code",
   "execution_count": null,
   "metadata": {},
   "outputs": [],
   "source": [
    "# prebacivanje temperature iz kelvina u celzius zato sto je celzius laksi za razumevanje, bar nama\n",
    "#data['temp'] = (data['temp']-273.15)\n",
    "#plt.figure(figsize=(6,4))\n",
    "#sns.boxplot('temp', data = data)\n",
    "#plt.show()"
   ]
  },
  {
   "attachments": {},
   "cell_type": "markdown",
   "metadata": {},
   "source": [
    "### Checking rain per 1h data"
   ]
  },
  {
   "cell_type": "code",
   "execution_count": null,
   "metadata": {},
   "outputs": [],
   "source": [
    "#prikaz podataka o kisi\n",
    "plt.figure(figsize=(6,4))\n",
    "sns.displot(data.rain_1h)\n",
    "plt.show()\n",
    "# iz prikazanog se vidi da su podaci sto se tice kise delom nekonzistentni, a i u atribut weather_main govori kada je kisa\n"
   ]
  },
  {
   "attachments": {},
   "cell_type": "markdown",
   "metadata": {},
   "source": [
    "### Checking rain per 1h less than 1"
   ]
  },
  {
   "cell_type": "code",
   "execution_count": null,
   "metadata": {},
   "outputs": [],
   "source": [
    "#histogram koji govori o padavimana i koliko u proseku padavina ima oko koje vrednosti\n",
    "plt.hist(data.rain_1h.loc[data.rain_1h<1])\n",
    "plt.show()\n",
    "#jasan prikaz da uglavnom nema kise"
   ]
  },
  {
   "attachments": {},
   "cell_type": "markdown",
   "metadata": {},
   "source": [
    "### Checking snow per 1h"
   ]
  },
  {
   "cell_type": "code",
   "execution_count": null,
   "metadata": {},
   "outputs": [],
   "source": [
    "plt.figure(figsize=(6,4))\n",
    "sns.displot(data.snow_1h)\n",
    "plt.show()"
   ]
  },
  {
   "attachments": {},
   "cell_type": "markdown",
   "metadata": {},
   "source": [
    "### Checking rain per 1h data"
   ]
  },
  {
   "cell_type": "code",
   "execution_count": null,
   "metadata": {},
   "outputs": [],
   "source": [
    "plt.hist(data.rain_1h.loc[data.snow_1h<1])\n",
    "plt.show()"
   ]
  },
  {
   "attachments": {},
   "cell_type": "markdown",
   "metadata": {},
   "source": [
    "### Describing 'clouds_all' data"
   ]
  },
  {
   "cell_type": "code",
   "execution_count": null,
   "metadata": {},
   "outputs": [],
   "source": [
    "#oblacnost \n",
    "sns.displot(data.clouds_all)\n",
    "plt.show()\n",
    "data['clouds_all'].describe()"
   ]
  },
  {
   "attachments": {},
   "cell_type": "markdown",
   "metadata": {},
   "source": [
    "### Countplotting 'weather_main' data"
   ]
  },
  {
   "cell_type": "code",
   "execution_count": null,
   "metadata": {},
   "outputs": [],
   "source": [
    "#prikaz podataka o tipovima vremena\n",
    "sns.countplot(y='weather_main', data=data)"
   ]
  },
  {
   "attachments": {},
   "cell_type": "markdown",
   "metadata": {},
   "source": [
    "### Piechart of 'weather_main' data"
   ]
  },
  {
   "cell_type": "code",
   "execution_count": null,
   "metadata": {},
   "outputs": [],
   "source": [
    "\n",
    "type_counts = data['weather_main'].value_counts()\n",
    "df2 = pd.DataFrame({'Weather Type': type_counts}, \n",
    "                     index = ['Clouds', 'Clear', 'Rain', 'Drizzle', 'Mist', 'Haze', 'Fog', 'Thunderstorm', 'Snow', 'Squall', 'Smoke']\n",
    "                   )\n",
    "df2.plot.pie(y='Weather Type', figsize=(10,10), autopct='%1.1f%%')"
   ]
  },
  {
   "attachments": {},
   "cell_type": "markdown",
   "metadata": {},
   "source": [
    "### Counting 'traffic_volume' data"
   ]
  },
  {
   "cell_type": "code",
   "execution_count": null,
   "metadata": {},
   "outputs": [],
   "source": [
    "#histogram koji prikazuje vrednosti guzve izmedju vrednosti od minimalne do maksimalne\n",
    "filter_data = data.dropna(subset=['traffic_volume'])\n",
    "plt.figure(figsize=(20,10))\n",
    "sns.histplot(filter_data['traffic_volume'], kde=False)\n",
    "#sa histograma se vidi da je najvise vrednosti guzve izmedju 200 i 400"
   ]
  },
  {
   "attachments": {},
   "cell_type": "markdown",
   "metadata": {},
   "source": [
    "### Checking 'weather_description' data"
   ]
  },
  {
   "cell_type": "code",
   "execution_count": null,
   "metadata": {},
   "outputs": [],
   "source": [
    "#opisi tipova vremena\n",
    "plt.figure(figsize=(10,8))\n",
    "sns.countplot(y='weather_description', data=data)\n",
    "plt.show()\n",
    "#jasno je da je opis tipova vremena feature koji je suvisan, jer vec postoji vremenska prilika"
   ]
  },
  {
   "attachments": {},
   "cell_type": "markdown",
   "metadata": {},
   "source": [
    "### Checking traffic volume for holidays"
   ]
  },
  {
   "cell_type": "code",
   "execution_count": null,
   "metadata": {},
   "outputs": [],
   "source": [
    "#poredjenje gustine saobracaja za praznike\n",
    "plt.figure(figsize=(10,8))\n",
    "sns.boxplot(y='holiday',x='traffic_volume', data = holidays)\n",
    "plt.show()"
   ]
  },
  {
   "attachments": {},
   "cell_type": "markdown",
   "metadata": {},
   "source": [
    "### Traffic volume dependency by temperature"
   ]
  },
  {
   "cell_type": "code",
   "execution_count": null,
   "metadata": {},
   "outputs": [],
   "source": [
    "#zavisnost guzve od temperature\n",
    "plt.figure(figsize=(10,8))\n",
    "sns.set_style('darkgrid')\n",
    "sns.jointplot(y='traffic_volume', x='temp', data = data.loc[data.temp>-50])\n",
    "plt.show()"
   ]
  },
  {
   "attachments": {},
   "cell_type": "markdown",
   "metadata": {},
   "source": [
    "### Checking traffic volume dependency by clouds coverage of the sky "
   ]
  },
  {
   "cell_type": "code",
   "execution_count": null,
   "metadata": {},
   "outputs": [],
   "source": [
    "#prikaz zavisnosti guzve od oblacnosti \n",
    "plt.figure(figsize=(14,8))\n",
    "sns.barplot(x='clouds_all', y = 'traffic_volume', data = data)\n",
    "plt.show()"
   ]
  },
  {
   "attachments": {},
   "cell_type": "markdown",
   "metadata": {},
   "source": [
    "### Traffic volume dependency by weather type"
   ]
  },
  {
   "cell_type": "code",
   "execution_count": null,
   "metadata": {},
   "outputs": [],
   "source": [
    "#prikaz zavisnosti guzve od tipa vremena\n",
    "plt.figure(figsize=(8,6))\n",
    "sns.barplot(x='weather_main', y = 'traffic_volume', data = data)\n",
    "plt.show()"
   ]
  },
  {
   "cell_type": "code",
   "execution_count": null,
   "metadata": {},
   "outputs": [],
   "source": []
  },
  {
   "attachments": {},
   "cell_type": "markdown",
   "metadata": {},
   "source": [
    "### Corelation using heatmap"
   ]
  },
  {
   "cell_type": "code",
   "execution_count": null,
   "metadata": {},
   "outputs": [],
   "source": [
    "#trazenje jake korelacije izmedju guzve i nekog od feature-a, uz pomoc toplotne mape\n",
    "sns.heatmap(data.corr(), annot=True)\n",
    "plt.show()"
   ]
  },
  {
   "attachments": {},
   "cell_type": "markdown",
   "metadata": {},
   "source": [
    "### Checking correlation coefficient example"
   ]
  },
  {
   "cell_type": "code",
   "execution_count": null,
   "metadata": {},
   "outputs": [],
   "source": [
    "corr_matrix = np.corrcoef(data['rain_1h'], data['clouds_all'])\n",
    "print(corr_matrix)"
   ]
  },
  {
   "attachments": {},
   "cell_type": "markdown",
   "metadata": {},
   "source": [
    "# Preprocessing and cleaning data\n",
    "\n"
   ]
  },
  {
   "cell_type": "code",
   "execution_count": 4,
   "metadata": {},
   "outputs": [
    {
     "data": {
      "text/html": [
       "<div>\n",
       "<style scoped>\n",
       "    .dataframe tbody tr th:only-of-type {\n",
       "        vertical-align: middle;\n",
       "    }\n",
       "\n",
       "    .dataframe tbody tr th {\n",
       "        vertical-align: top;\n",
       "    }\n",
       "\n",
       "    .dataframe thead th {\n",
       "        text-align: right;\n",
       "    }\n",
       "</style>\n",
       "<table border=\"1\" class=\"dataframe\">\n",
       "  <thead>\n",
       "    <tr style=\"text-align: right;\">\n",
       "      <th></th>\n",
       "      <th>holiday</th>\n",
       "      <th>temp</th>\n",
       "      <th>rain_1h</th>\n",
       "      <th>snow_1h</th>\n",
       "      <th>clouds_all</th>\n",
       "      <th>weather_main</th>\n",
       "      <th>weather_description</th>\n",
       "      <th>date_time</th>\n",
       "      <th>traffic_volume</th>\n",
       "      <th>weekday</th>\n",
       "      <th>date</th>\n",
       "      <th>hour</th>\n",
       "      <th>month</th>\n",
       "      <th>year</th>\n",
       "    </tr>\n",
       "  </thead>\n",
       "  <tbody>\n",
       "    <tr>\n",
       "      <th>0</th>\n",
       "      <td>None</td>\n",
       "      <td>288.28</td>\n",
       "      <td>0.0</td>\n",
       "      <td>0.0</td>\n",
       "      <td>40</td>\n",
       "      <td>Clouds</td>\n",
       "      <td>scattered clouds</td>\n",
       "      <td>2012-10-02 09:00:00</td>\n",
       "      <td>5545</td>\n",
       "      <td>1</td>\n",
       "      <td>2012-10-02</td>\n",
       "      <td>9</td>\n",
       "      <td>10</td>\n",
       "      <td>2012</td>\n",
       "    </tr>\n",
       "    <tr>\n",
       "      <th>1</th>\n",
       "      <td>None</td>\n",
       "      <td>289.36</td>\n",
       "      <td>0.0</td>\n",
       "      <td>0.0</td>\n",
       "      <td>75</td>\n",
       "      <td>Clouds</td>\n",
       "      <td>broken clouds</td>\n",
       "      <td>2012-10-02 10:00:00</td>\n",
       "      <td>4516</td>\n",
       "      <td>1</td>\n",
       "      <td>2012-10-02</td>\n",
       "      <td>10</td>\n",
       "      <td>10</td>\n",
       "      <td>2012</td>\n",
       "    </tr>\n",
       "    <tr>\n",
       "      <th>2</th>\n",
       "      <td>None</td>\n",
       "      <td>289.58</td>\n",
       "      <td>0.0</td>\n",
       "      <td>0.0</td>\n",
       "      <td>90</td>\n",
       "      <td>Clouds</td>\n",
       "      <td>overcast clouds</td>\n",
       "      <td>2012-10-02 11:00:00</td>\n",
       "      <td>4767</td>\n",
       "      <td>1</td>\n",
       "      <td>2012-10-02</td>\n",
       "      <td>11</td>\n",
       "      <td>10</td>\n",
       "      <td>2012</td>\n",
       "    </tr>\n",
       "    <tr>\n",
       "      <th>3</th>\n",
       "      <td>None</td>\n",
       "      <td>290.13</td>\n",
       "      <td>0.0</td>\n",
       "      <td>0.0</td>\n",
       "      <td>90</td>\n",
       "      <td>Clouds</td>\n",
       "      <td>overcast clouds</td>\n",
       "      <td>2012-10-02 12:00:00</td>\n",
       "      <td>5026</td>\n",
       "      <td>1</td>\n",
       "      <td>2012-10-02</td>\n",
       "      <td>12</td>\n",
       "      <td>10</td>\n",
       "      <td>2012</td>\n",
       "    </tr>\n",
       "    <tr>\n",
       "      <th>4</th>\n",
       "      <td>None</td>\n",
       "      <td>291.14</td>\n",
       "      <td>0.0</td>\n",
       "      <td>0.0</td>\n",
       "      <td>75</td>\n",
       "      <td>Clouds</td>\n",
       "      <td>broken clouds</td>\n",
       "      <td>2012-10-02 13:00:00</td>\n",
       "      <td>4918</td>\n",
       "      <td>1</td>\n",
       "      <td>2012-10-02</td>\n",
       "      <td>13</td>\n",
       "      <td>10</td>\n",
       "      <td>2012</td>\n",
       "    </tr>\n",
       "  </tbody>\n",
       "</table>\n",
       "</div>"
      ],
      "text/plain": [
       "  holiday    temp  rain_1h  snow_1h  clouds_all weather_main  \\\n",
       "0    None  288.28      0.0      0.0          40       Clouds   \n",
       "1    None  289.36      0.0      0.0          75       Clouds   \n",
       "2    None  289.58      0.0      0.0          90       Clouds   \n",
       "3    None  290.13      0.0      0.0          90       Clouds   \n",
       "4    None  291.14      0.0      0.0          75       Clouds   \n",
       "\n",
       "  weather_description           date_time  traffic_volume  weekday  \\\n",
       "0    scattered clouds 2012-10-02 09:00:00            5545        1   \n",
       "1       broken clouds 2012-10-02 10:00:00            4516        1   \n",
       "2     overcast clouds 2012-10-02 11:00:00            4767        1   \n",
       "3     overcast clouds 2012-10-02 12:00:00            5026        1   \n",
       "4       broken clouds 2012-10-02 13:00:00            4918        1   \n",
       "\n",
       "         date  hour  month  year  \n",
       "0  2012-10-02     9     10  2012  \n",
       "1  2012-10-02    10     10  2012  \n",
       "2  2012-10-02    11     10  2012  \n",
       "3  2012-10-02    12     10  2012  \n",
       "4  2012-10-02    13     10  2012  "
      ]
     },
     "execution_count": 4,
     "metadata": {},
     "output_type": "execute_result"
    }
   ],
   "source": [
    "#SSS\n",
    "df = data.copy()\n",
    "df['date_time'] = pd.to_datetime(df.date_time)\n",
    "df['weekday'] = df.date_time.dt.weekday#dani u nedelji idu od 0 do 6, gde je ponedeljak 0..\n",
    "df['date'] = df.date_time.dt.date\n",
    "df['hour'] = df.date_time.dt.hour\n",
    "df['month'] = df.date_time.dt.month\n",
    "df['year'] = df.date_time.dt.year\n",
    "\n",
    "df.head()"
   ]
  },
  {
   "attachments": {},
   "cell_type": "markdown",
   "metadata": {},
   "source": [
    "## Transforming hours to daytime period"
   ]
  },
  {
   "cell_type": "code",
   "execution_count": null,
   "metadata": {},
   "outputs": [],
   "source": [
    "#prevodjenje tacnog vremena u objekte, tj kategoricke podatke \n",
    "def hour_modify(x):\n",
    "    Early_Morning = [4,5,6,7]\n",
    "    Morning = [8,9,10,11]\n",
    "    Afternoon = [12,13,14,15]\n",
    "    Evening = [16,17,18,19]\n",
    "    Night = [20,21,22,23]\n",
    "    Late_Night = [24,1,2,3]\n",
    "    if x in Early_Morning:\n",
    "        return 'Early_Morning'\n",
    "    elif x in Morning:\n",
    "        return 'Morning'\n",
    "    elif x in Afternoon:\n",
    "        return 'Afternoon'\n",
    "    elif x in Evening:\n",
    "        return 'Evening'\n",
    "    elif x in Night:\n",
    "        return 'Night'\n",
    "    else:\n",
    "        return 'Late_Night'\n",
    "    \n",
    "df['hour'] = df.hour.map(hour_modify)\n",
    "df.head(6)"
   ]
  },
  {
   "attachments": {},
   "cell_type": "markdown",
   "metadata": {},
   "source": [
    "## Transforming day to weekday type"
   ]
  },
  {
   "cell_type": "code",
   "execution_count": 5,
   "metadata": {},
   "outputs": [
    {
     "data": {
      "text/html": [
       "<div>\n",
       "<style scoped>\n",
       "    .dataframe tbody tr th:only-of-type {\n",
       "        vertical-align: middle;\n",
       "    }\n",
       "\n",
       "    .dataframe tbody tr th {\n",
       "        vertical-align: top;\n",
       "    }\n",
       "\n",
       "    .dataframe thead th {\n",
       "        text-align: right;\n",
       "    }\n",
       "</style>\n",
       "<table border=\"1\" class=\"dataframe\">\n",
       "  <thead>\n",
       "    <tr style=\"text-align: right;\">\n",
       "      <th></th>\n",
       "      <th>holiday</th>\n",
       "      <th>temp</th>\n",
       "      <th>rain_1h</th>\n",
       "      <th>snow_1h</th>\n",
       "      <th>clouds_all</th>\n",
       "      <th>weather_main</th>\n",
       "      <th>weather_description</th>\n",
       "      <th>date_time</th>\n",
       "      <th>traffic_volume</th>\n",
       "      <th>weekday</th>\n",
       "      <th>date</th>\n",
       "      <th>hour</th>\n",
       "      <th>month</th>\n",
       "      <th>year</th>\n",
       "    </tr>\n",
       "  </thead>\n",
       "  <tbody>\n",
       "    <tr>\n",
       "      <th>0</th>\n",
       "      <td>None</td>\n",
       "      <td>288.28</td>\n",
       "      <td>0.0</td>\n",
       "      <td>0.0</td>\n",
       "      <td>40</td>\n",
       "      <td>Clouds</td>\n",
       "      <td>scattered clouds</td>\n",
       "      <td>2012-10-02 09:00:00</td>\n",
       "      <td>5545</td>\n",
       "      <td>WeekDay</td>\n",
       "      <td>2012-10-02</td>\n",
       "      <td>9</td>\n",
       "      <td>10</td>\n",
       "      <td>2012</td>\n",
       "    </tr>\n",
       "    <tr>\n",
       "      <th>1</th>\n",
       "      <td>None</td>\n",
       "      <td>289.36</td>\n",
       "      <td>0.0</td>\n",
       "      <td>0.0</td>\n",
       "      <td>75</td>\n",
       "      <td>Clouds</td>\n",
       "      <td>broken clouds</td>\n",
       "      <td>2012-10-02 10:00:00</td>\n",
       "      <td>4516</td>\n",
       "      <td>WeekDay</td>\n",
       "      <td>2012-10-02</td>\n",
       "      <td>10</td>\n",
       "      <td>10</td>\n",
       "      <td>2012</td>\n",
       "    </tr>\n",
       "    <tr>\n",
       "      <th>2</th>\n",
       "      <td>None</td>\n",
       "      <td>289.58</td>\n",
       "      <td>0.0</td>\n",
       "      <td>0.0</td>\n",
       "      <td>90</td>\n",
       "      <td>Clouds</td>\n",
       "      <td>overcast clouds</td>\n",
       "      <td>2012-10-02 11:00:00</td>\n",
       "      <td>4767</td>\n",
       "      <td>WeekDay</td>\n",
       "      <td>2012-10-02</td>\n",
       "      <td>11</td>\n",
       "      <td>10</td>\n",
       "      <td>2012</td>\n",
       "    </tr>\n",
       "    <tr>\n",
       "      <th>3</th>\n",
       "      <td>None</td>\n",
       "      <td>290.13</td>\n",
       "      <td>0.0</td>\n",
       "      <td>0.0</td>\n",
       "      <td>90</td>\n",
       "      <td>Clouds</td>\n",
       "      <td>overcast clouds</td>\n",
       "      <td>2012-10-02 12:00:00</td>\n",
       "      <td>5026</td>\n",
       "      <td>WeekDay</td>\n",
       "      <td>2012-10-02</td>\n",
       "      <td>12</td>\n",
       "      <td>10</td>\n",
       "      <td>2012</td>\n",
       "    </tr>\n",
       "    <tr>\n",
       "      <th>4</th>\n",
       "      <td>None</td>\n",
       "      <td>291.14</td>\n",
       "      <td>0.0</td>\n",
       "      <td>0.0</td>\n",
       "      <td>75</td>\n",
       "      <td>Clouds</td>\n",
       "      <td>broken clouds</td>\n",
       "      <td>2012-10-02 13:00:00</td>\n",
       "      <td>4918</td>\n",
       "      <td>WeekDay</td>\n",
       "      <td>2012-10-02</td>\n",
       "      <td>13</td>\n",
       "      <td>10</td>\n",
       "      <td>2012</td>\n",
       "    </tr>\n",
       "    <tr>\n",
       "      <th>5</th>\n",
       "      <td>None</td>\n",
       "      <td>291.72</td>\n",
       "      <td>0.0</td>\n",
       "      <td>0.0</td>\n",
       "      <td>1</td>\n",
       "      <td>Clear</td>\n",
       "      <td>sky is clear</td>\n",
       "      <td>2012-10-02 14:00:00</td>\n",
       "      <td>5181</td>\n",
       "      <td>WeekDay</td>\n",
       "      <td>2012-10-02</td>\n",
       "      <td>14</td>\n",
       "      <td>10</td>\n",
       "      <td>2012</td>\n",
       "    </tr>\n",
       "  </tbody>\n",
       "</table>\n",
       "</div>"
      ],
      "text/plain": [
       "  holiday    temp  rain_1h  snow_1h  clouds_all weather_main  \\\n",
       "0    None  288.28      0.0      0.0          40       Clouds   \n",
       "1    None  289.36      0.0      0.0          75       Clouds   \n",
       "2    None  289.58      0.0      0.0          90       Clouds   \n",
       "3    None  290.13      0.0      0.0          90       Clouds   \n",
       "4    None  291.14      0.0      0.0          75       Clouds   \n",
       "5    None  291.72      0.0      0.0           1        Clear   \n",
       "\n",
       "  weather_description           date_time  traffic_volume  weekday  \\\n",
       "0    scattered clouds 2012-10-02 09:00:00            5545  WeekDay   \n",
       "1       broken clouds 2012-10-02 10:00:00            4516  WeekDay   \n",
       "2     overcast clouds 2012-10-02 11:00:00            4767  WeekDay   \n",
       "3     overcast clouds 2012-10-02 12:00:00            5026  WeekDay   \n",
       "4       broken clouds 2012-10-02 13:00:00            4918  WeekDay   \n",
       "5        sky is clear 2012-10-02 14:00:00            5181  WeekDay   \n",
       "\n",
       "         date  hour  month  year  \n",
       "0  2012-10-02     9     10  2012  \n",
       "1  2012-10-02    10     10  2012  \n",
       "2  2012-10-02    11     10  2012  \n",
       "3  2012-10-02    12     10  2012  \n",
       "4  2012-10-02    13     10  2012  \n",
       "5  2012-10-02    14     10  2012  "
      ]
     },
     "execution_count": 5,
     "metadata": {},
     "output_type": "execute_result"
    }
   ],
   "source": [
    "#SSS\n",
    "#prevodjenje dana u kategoricke podatke \n",
    "def day_modify(x):\n",
    "    Weekend = [5, 6]\n",
    "    WeekDay = [0, 1, 2 ,3 ,4]\n",
    "    \n",
    "    if x in WeekDay:\n",
    "        return 'WeekDay'\n",
    "    else:\n",
    "        return 'Weekend'\n",
    "\n",
    "df['weekday'] = df.weekday.map(day_modify)\n",
    "df.head(6)"
   ]
  },
  {
   "attachments": {},
   "cell_type": "markdown",
   "metadata": {},
   "source": [
    "### Transforming months to quartals"
   ]
  },
  {
   "cell_type": "code",
   "execution_count": null,
   "metadata": {},
   "outputs": [],
   "source": [
    "#prevodjenje meseci u objekte\n",
    "def month_modify(x):\n",
    "    First_Quartal = [1,2,3]\n",
    "    Second_Quartal = [4,5,6]\n",
    "    Third_Quartal = [7,8,9]\n",
    "    Fourth_Quartal = [10,11,12]\n",
    "    if x in First_Quartal:\n",
    "        return 'First_Quartal'\n",
    "    elif x in Second_Quartal:\n",
    "        return 'Second_Quartal'\n",
    "    elif x in Third_Quartal:\n",
    "        return 'Third_Quartal'\n",
    "    else:\n",
    "        return 'Fourth_Quartal'\n",
    "    \n",
    "df['month'] = df.month.map(month_modify)\n",
    "df.head(6)"
   ]
  },
  {
   "attachments": {},
   "cell_type": "markdown",
   "metadata": {},
   "source": [
    "### Checking traffic volume in weekdays/weekends"
   ]
  },
  {
   "cell_type": "code",
   "execution_count": null,
   "metadata": {},
   "outputs": [],
   "source": [
    "#Guzva za dane u nedelji\n",
    "plt.figure(figsize=(8,6))\n",
    "sns.boxplot(x='weekday', y='traffic_volume', data = df)\n",
    "plt.show()"
   ]
  },
  {
   "attachments": {},
   "cell_type": "markdown",
   "metadata": {},
   "source": [
    "### Checking traffic volume per years"
   ]
  },
  {
   "cell_type": "code",
   "execution_count": null,
   "metadata": {},
   "outputs": [],
   "source": [
    "# prikaz guzve na godisnjem nivou\n",
    "df_date_traffic = df.groupby('year').aggregate({'traffic_volume':'mean'})\n",
    "plt.figure(figsize=(8,6))\n",
    "sns.lineplot(x = df_date_traffic.index, y = df_date_traffic['traffic_volume'], data = df_date_traffic)\n",
    "plt.show()"
   ]
  },
  {
   "attachments": {},
   "cell_type": "markdown",
   "metadata": {},
   "source": [
    "### Transforming holiday data"
   ]
  },
  {
   "cell_type": "code",
   "execution_count": 6,
   "metadata": {},
   "outputs": [
    {
     "data": {
      "text/html": [
       "<div>\n",
       "<style scoped>\n",
       "    .dataframe tbody tr th:only-of-type {\n",
       "        vertical-align: middle;\n",
       "    }\n",
       "\n",
       "    .dataframe tbody tr th {\n",
       "        vertical-align: top;\n",
       "    }\n",
       "\n",
       "    .dataframe thead th {\n",
       "        text-align: right;\n",
       "    }\n",
       "</style>\n",
       "<table border=\"1\" class=\"dataframe\">\n",
       "  <thead>\n",
       "    <tr style=\"text-align: right;\">\n",
       "      <th></th>\n",
       "      <th>holiday</th>\n",
       "      <th>temp</th>\n",
       "      <th>rain_1h</th>\n",
       "      <th>snow_1h</th>\n",
       "      <th>clouds_all</th>\n",
       "      <th>weather_main</th>\n",
       "      <th>weather_description</th>\n",
       "      <th>date_time</th>\n",
       "      <th>traffic_volume</th>\n",
       "      <th>weekday</th>\n",
       "      <th>date</th>\n",
       "      <th>hour</th>\n",
       "      <th>month</th>\n",
       "      <th>year</th>\n",
       "    </tr>\n",
       "  </thead>\n",
       "  <tbody>\n",
       "    <tr>\n",
       "      <th>0</th>\n",
       "      <td>False</td>\n",
       "      <td>288.28</td>\n",
       "      <td>0.0</td>\n",
       "      <td>0.0</td>\n",
       "      <td>40</td>\n",
       "      <td>Clouds</td>\n",
       "      <td>scattered clouds</td>\n",
       "      <td>2012-10-02 09:00:00</td>\n",
       "      <td>5545</td>\n",
       "      <td>WeekDay</td>\n",
       "      <td>2012-10-02</td>\n",
       "      <td>9</td>\n",
       "      <td>10</td>\n",
       "      <td>2012</td>\n",
       "    </tr>\n",
       "    <tr>\n",
       "      <th>1</th>\n",
       "      <td>False</td>\n",
       "      <td>289.36</td>\n",
       "      <td>0.0</td>\n",
       "      <td>0.0</td>\n",
       "      <td>75</td>\n",
       "      <td>Clouds</td>\n",
       "      <td>broken clouds</td>\n",
       "      <td>2012-10-02 10:00:00</td>\n",
       "      <td>4516</td>\n",
       "      <td>WeekDay</td>\n",
       "      <td>2012-10-02</td>\n",
       "      <td>10</td>\n",
       "      <td>10</td>\n",
       "      <td>2012</td>\n",
       "    </tr>\n",
       "    <tr>\n",
       "      <th>2</th>\n",
       "      <td>False</td>\n",
       "      <td>289.58</td>\n",
       "      <td>0.0</td>\n",
       "      <td>0.0</td>\n",
       "      <td>90</td>\n",
       "      <td>Clouds</td>\n",
       "      <td>overcast clouds</td>\n",
       "      <td>2012-10-02 11:00:00</td>\n",
       "      <td>4767</td>\n",
       "      <td>WeekDay</td>\n",
       "      <td>2012-10-02</td>\n",
       "      <td>11</td>\n",
       "      <td>10</td>\n",
       "      <td>2012</td>\n",
       "    </tr>\n",
       "    <tr>\n",
       "      <th>3</th>\n",
       "      <td>False</td>\n",
       "      <td>290.13</td>\n",
       "      <td>0.0</td>\n",
       "      <td>0.0</td>\n",
       "      <td>90</td>\n",
       "      <td>Clouds</td>\n",
       "      <td>overcast clouds</td>\n",
       "      <td>2012-10-02 12:00:00</td>\n",
       "      <td>5026</td>\n",
       "      <td>WeekDay</td>\n",
       "      <td>2012-10-02</td>\n",
       "      <td>12</td>\n",
       "      <td>10</td>\n",
       "      <td>2012</td>\n",
       "    </tr>\n",
       "    <tr>\n",
       "      <th>4</th>\n",
       "      <td>False</td>\n",
       "      <td>291.14</td>\n",
       "      <td>0.0</td>\n",
       "      <td>0.0</td>\n",
       "      <td>75</td>\n",
       "      <td>Clouds</td>\n",
       "      <td>broken clouds</td>\n",
       "      <td>2012-10-02 13:00:00</td>\n",
       "      <td>4918</td>\n",
       "      <td>WeekDay</td>\n",
       "      <td>2012-10-02</td>\n",
       "      <td>13</td>\n",
       "      <td>10</td>\n",
       "      <td>2012</td>\n",
       "    </tr>\n",
       "  </tbody>\n",
       "</table>\n",
       "</div>"
      ],
      "text/plain": [
       "   holiday    temp  rain_1h  snow_1h  clouds_all weather_main  \\\n",
       "0    False  288.28      0.0      0.0          40       Clouds   \n",
       "1    False  289.36      0.0      0.0          75       Clouds   \n",
       "2    False  289.58      0.0      0.0          90       Clouds   \n",
       "3    False  290.13      0.0      0.0          90       Clouds   \n",
       "4    False  291.14      0.0      0.0          75       Clouds   \n",
       "\n",
       "  weather_description           date_time  traffic_volume  weekday  \\\n",
       "0    scattered clouds 2012-10-02 09:00:00            5545  WeekDay   \n",
       "1       broken clouds 2012-10-02 10:00:00            4516  WeekDay   \n",
       "2     overcast clouds 2012-10-02 11:00:00            4767  WeekDay   \n",
       "3     overcast clouds 2012-10-02 12:00:00            5026  WeekDay   \n",
       "4       broken clouds 2012-10-02 13:00:00            4918  WeekDay   \n",
       "\n",
       "         date  hour  month  year  \n",
       "0  2012-10-02     9     10  2012  \n",
       "1  2012-10-02    10     10  2012  \n",
       "2  2012-10-02    11     10  2012  \n",
       "3  2012-10-02    12     10  2012  \n",
       "4  2012-10-02    13     10  2012  "
      ]
     },
     "execution_count": 6,
     "metadata": {},
     "output_type": "execute_result"
    }
   ],
   "source": [
    "#SSS\n",
    "#pretvaranje praznika u true ili false, dan ili jeste praznik ili nije\n",
    "def modify_holiday(x):\n",
    "    if x == 'None':\n",
    "        return False\n",
    "    else:\n",
    "        return True\n",
    "df['holiday'] = df['holiday'].map(modify_holiday)\n",
    "df.head()"
   ]
  },
  {
   "attachments": {},
   "cell_type": "markdown",
   "metadata": {},
   "source": [
    "### Dropping outliers from temperature data"
   ]
  },
  {
   "cell_type": "code",
   "execution_count": 7,
   "metadata": {},
   "outputs": [
    {
     "data": {
      "image/png": "[encoded data removed]",
      "text/plain": [
       "<Figure size 600x400 with 1 Axes>"
      ]
     },
     "metadata": {},
     "output_type": "display_data"
    }
   ],
   "source": [
    "#SSS\n",
    "#uklanjanje outliera\n",
    "df = df.loc[df.temp>200]\n",
    "#df['temp'] = (df['temp']-273.15)\n",
    "plt.figure(figsize=(6,4))\n",
    "sns.boxplot(x='temp', data = df)\n",
    "plt.show()"
   ]
  },
  {
   "attachments": {},
   "cell_type": "markdown",
   "metadata": {},
   "source": [
    "## Checking traffic volume by holidays"
   ]
  },
  {
   "cell_type": "code",
   "execution_count": null,
   "metadata": {},
   "outputs": [],
   "source": [
    "\n",
    "#razlika u guzvi kada je praznik i kada nije\n",
    "plt.figure(figsize=(8,6))\n",
    "sns.barplot(x='holiday', y='traffic_volume', data = df)\n",
    "plt.show()"
   ]
  },
  {
   "attachments": {},
   "cell_type": "markdown",
   "metadata": {},
   "source": [
    "## Dropping unnecessary columns"
   ]
  },
  {
   "cell_type": "code",
   "execution_count": 8,
   "metadata": {},
   "outputs": [
    {
     "data": {
      "text/html": [
       "<div>\n",
       "<style scoped>\n",
       "    .dataframe tbody tr th:only-of-type {\n",
       "        vertical-align: middle;\n",
       "    }\n",
       "\n",
       "    .dataframe tbody tr th {\n",
       "        vertical-align: top;\n",
       "    }\n",
       "\n",
       "    .dataframe thead th {\n",
       "        text-align: right;\n",
       "    }\n",
       "</style>\n",
       "<table border=\"1\" class=\"dataframe\">\n",
       "  <thead>\n",
       "    <tr style=\"text-align: right;\">\n",
       "      <th></th>\n",
       "      <th>holiday</th>\n",
       "      <th>temp</th>\n",
       "      <th>clouds_all</th>\n",
       "      <th>weather_main</th>\n",
       "      <th>date_time</th>\n",
       "      <th>traffic_volume</th>\n",
       "      <th>weekday</th>\n",
       "      <th>date</th>\n",
       "      <th>hour</th>\n",
       "      <th>month</th>\n",
       "      <th>year</th>\n",
       "    </tr>\n",
       "  </thead>\n",
       "  <tbody>\n",
       "    <tr>\n",
       "      <th>0</th>\n",
       "      <td>False</td>\n",
       "      <td>288.28</td>\n",
       "      <td>40</td>\n",
       "      <td>Clouds</td>\n",
       "      <td>2012-10-02 09:00:00</td>\n",
       "      <td>5545</td>\n",
       "      <td>WeekDay</td>\n",
       "      <td>2012-10-02</td>\n",
       "      <td>9</td>\n",
       "      <td>10</td>\n",
       "      <td>2012</td>\n",
       "    </tr>\n",
       "    <tr>\n",
       "      <th>1</th>\n",
       "      <td>False</td>\n",
       "      <td>289.36</td>\n",
       "      <td>75</td>\n",
       "      <td>Clouds</td>\n",
       "      <td>2012-10-02 10:00:00</td>\n",
       "      <td>4516</td>\n",
       "      <td>WeekDay</td>\n",
       "      <td>2012-10-02</td>\n",
       "      <td>10</td>\n",
       "      <td>10</td>\n",
       "      <td>2012</td>\n",
       "    </tr>\n",
       "    <tr>\n",
       "      <th>2</th>\n",
       "      <td>False</td>\n",
       "      <td>289.58</td>\n",
       "      <td>90</td>\n",
       "      <td>Clouds</td>\n",
       "      <td>2012-10-02 11:00:00</td>\n",
       "      <td>4767</td>\n",
       "      <td>WeekDay</td>\n",
       "      <td>2012-10-02</td>\n",
       "      <td>11</td>\n",
       "      <td>10</td>\n",
       "      <td>2012</td>\n",
       "    </tr>\n",
       "    <tr>\n",
       "      <th>3</th>\n",
       "      <td>False</td>\n",
       "      <td>290.13</td>\n",
       "      <td>90</td>\n",
       "      <td>Clouds</td>\n",
       "      <td>2012-10-02 12:00:00</td>\n",
       "      <td>5026</td>\n",
       "      <td>WeekDay</td>\n",
       "      <td>2012-10-02</td>\n",
       "      <td>12</td>\n",
       "      <td>10</td>\n",
       "      <td>2012</td>\n",
       "    </tr>\n",
       "    <tr>\n",
       "      <th>4</th>\n",
       "      <td>False</td>\n",
       "      <td>291.14</td>\n",
       "      <td>75</td>\n",
       "      <td>Clouds</td>\n",
       "      <td>2012-10-02 13:00:00</td>\n",
       "      <td>4918</td>\n",
       "      <td>WeekDay</td>\n",
       "      <td>2012-10-02</td>\n",
       "      <td>13</td>\n",
       "      <td>10</td>\n",
       "      <td>2012</td>\n",
       "    </tr>\n",
       "  </tbody>\n",
       "</table>\n",
       "</div>"
      ],
      "text/plain": [
       "   holiday    temp  clouds_all weather_main           date_time  \\\n",
       "0    False  288.28          40       Clouds 2012-10-02 09:00:00   \n",
       "1    False  289.36          75       Clouds 2012-10-02 10:00:00   \n",
       "2    False  289.58          90       Clouds 2012-10-02 11:00:00   \n",
       "3    False  290.13          90       Clouds 2012-10-02 12:00:00   \n",
       "4    False  291.14          75       Clouds 2012-10-02 13:00:00   \n",
       "\n",
       "   traffic_volume  weekday        date  hour  month  year  \n",
       "0            5545  WeekDay  2012-10-02     9     10  2012  \n",
       "1            4516  WeekDay  2012-10-02    10     10  2012  \n",
       "2            4767  WeekDay  2012-10-02    11     10  2012  \n",
       "3            5026  WeekDay  2012-10-02    12     10  2012  \n",
       "4            4918  WeekDay  2012-10-02    13     10  2012  "
      ]
     },
     "execution_count": 8,
     "metadata": {},
     "output_type": "execute_result"
    }
   ],
   "source": [
    "#SSS\n",
    "#uklanjanje podataka o tome da li je kisa ili sneg jer se vec na osnovu parametra weather zna da li jeste ili nije\n",
    "df.drop(columns = ['rain_1h','snow_1h', 'weather_description'],inplace = True)#note- moze da se prebaci i snow no snow u true i false, takodje i za kisu, ali nekako deluje kao da to vec znamo na osnovu tekucih vremennskih prilika\n",
    "df.head()"
   ]
  },
  {
   "cell_type": "code",
   "execution_count": null,
   "metadata": {},
   "outputs": [],
   "source": [
    "#uklanjanje podataka o tome da li je kisa ili sneg jer se vec na osnovu parametra weather zna da li jeste ili nije\n",
    "df.drop(columns = ['weather_description'],inplace = True)#note- moze da se prebaci i snow no snow u true i false, takodje i za kisu, ali nekako deluje kao da to vec znamo na osnovu tekucih vremennskih prilika\n",
    "df.head()"
   ]
  },
  {
   "attachments": {},
   "cell_type": "markdown",
   "metadata": {},
   "source": [
    "## Counting weather condition rows"
   ]
  },
  {
   "cell_type": "code",
   "execution_count": null,
   "metadata": {},
   "outputs": [],
   "source": [
    "df['weather_main'].value_counts()\n"
   ]
  },
  {
   "attachments": {},
   "cell_type": "markdown",
   "metadata": {},
   "source": [
    "## Merging similar weather conditions"
   ]
  },
  {
   "cell_type": "code",
   "execution_count": 9,
   "metadata": {},
   "outputs": [
    {
     "data": {
      "text/plain": [
       "Clouds          15164\n",
       "Clear           13381\n",
       "Fog              8242\n",
       "Rain             5672\n",
       "Snow             2876\n",
       "Drizzle          1821\n",
       "Thunderstorm     1038\n",
       "Name: weather_main, dtype: int64"
      ]
     },
     "execution_count": 9,
     "metadata": {},
     "output_type": "execute_result"
    }
   ],
   "source": [
    "#SSS\n",
    "#vremenske prilike koje su slicne stavljene u isti tip\n",
    "df.loc[df['weather_main'].str.contains('Haze'),'weather_main'] = 'Fog'   \n",
    "df.loc[df['weather_main'].str.contains('Mist'),'weather_main'] = 'Fog'   \n",
    "df.loc[df['weather_main'].str.contains('Smoke'),'weather_main'] = 'Fog'   \n",
    "df.loc[df['weather_main'].str.contains('Squall'),'weather_main'] = 'Thunderstorm'       \n",
    "df['weather_main'].value_counts()"
   ]
  },
  {
   "cell_type": "code",
   "execution_count": null,
   "metadata": {},
   "outputs": [],
   "source": [
    "#pretvaranje praznika u true ili false, dan ili jeste praznik ili nije\n",
    "def modify_weather(x):\n",
    "    if x == 'Clouds':\n",
    "        return 0\n",
    "    elif x== 'Clear':\n",
    "        return 1\n",
    "    elif x== 'Fog':\n",
    "        return 2\n",
    "    elif x== 'Rain':\n",
    "        return 3\n",
    "    elif x== 'Snow':\n",
    "        return 4\n",
    "    elif x== 'Drizzle':\n",
    "        return 5\n",
    "    else:\n",
    "        return 6\n",
    "df['weather_main'] = df['weather_main'].map(modify_weather)\n",
    "df.head()"
   ]
  },
  {
   "cell_type": "code",
   "execution_count": null,
   "metadata": {},
   "outputs": [],
   "source": [
    "#pretvaranje praznika u true ili false, dan ili jeste praznik ili nije\n",
    "def modify_weekday(x):\n",
    "    if x == 'WeekDay':\n",
    "        return 0\n",
    "    else:\n",
    "        return 1\n",
    "df['weekday'] = df['weekday'].map(modify_weekday)\n",
    "df.head()"
   ]
  },
  {
   "attachments": {},
   "cell_type": "markdown",
   "metadata": {},
   "source": [
    "### One-Hot encoding test example 1"
   ]
  },
  {
   "cell_type": "code",
   "execution_count": null,
   "metadata": {},
   "outputs": [],
   "source": [
    "# #one hot endocing hour\n",
    "# # Use as many lines of code as you need!\n",
    "# OH_encoder = OneHotEncoder(handle_unknown='ignore', sparse=False)\n",
    "# OH_cols = pd.DataFrame(OH_encoder.fit_transform(df[['hour']]))\n",
    "\n",
    "# # One-hot encoding removed index; put it back\n",
    "# OH_cols.index = df.index\n",
    "# column_name = OH_encoder.get_feature_names_out(['hour'])\n",
    "# OH_cols.columns = column_name\n",
    "\n",
    "# # Remove categorical columns (will replace with one-hot encoding)\n",
    "# num_X = df.drop(\"hour\", axis=1)\n",
    "# OH_X = pd.concat([num_X, OH_cols], axis=1)\n",
    "# #one_hot_encoded_frame = pd.DataFrame.sparse.from_spmatrix(OH_X, columns= column_name)\n",
    "\n",
    "# df=OH_X\n",
    "# OH_cols = pd.DataFrame(df[['traffic_volume']])\n",
    "# num_X = df.drop(\"traffic_volume\", axis=1)\n",
    "# Odf_X = pd.concat([num_X, OH_cols], axis=1)\n",
    "# df=Odf_X\n",
    "# df.head()"
   ]
  },
  {
   "attachments": {},
   "cell_type": "markdown",
   "metadata": {},
   "source": [
    "### One-Hot encoding test example 2"
   ]
  },
  {
   "cell_type": "code",
   "execution_count": null,
   "metadata": {},
   "outputs": [],
   "source": [
    "# #one hot endocing mesec\n",
    "# # Use as many lines of code as you need!\n",
    "# OH_encoder = OneHotEncoder(handle_unknown='ignore', sparse=False)\n",
    "# OH_cols = pd.DataFrame(OH_encoder.fit_transform(df[['month']]))\n",
    "\n",
    "# # One-hot encoding removed index; put it back\n",
    "# OH_cols.index = df.index\n",
    "# column_name = OH_encoder.get_feature_names_out(['month'])\n",
    "# OH_cols.columns = column_name\n",
    "\n",
    "# # Remove categorical columns (will replace with one-hot encoding)\n",
    "# num_X = df.drop(\"month\", axis=1)\n",
    "# OH_X = pd.concat([num_X, OH_cols], axis=1)\n",
    "# #one_hot_encoded_frame = pd.DataFrame.sparse.from_spmatrix(OH_X, columns= column_name)\n",
    "\n",
    "# df=OH_X\n",
    "# OH_cols = pd.DataFrame(df[['traffic_volume']])\n",
    "# num_X = df.drop(\"traffic_volume\", axis=1)\n",
    "# Odf_X = pd.concat([num_X, OH_cols], axis=1)\n",
    "# df=Odf_X\n",
    "# df.head()"
   ]
  },
  {
   "attachments": {},
   "cell_type": "markdown",
   "metadata": {},
   "source": [
    "### Ordinal encoding test example "
   ]
  },
  {
   "cell_type": "code",
   "execution_count": null,
   "metadata": {},
   "outputs": [],
   "source": [
    "# ordinal_encoder = OrdinalEncoder()\n",
    "# df[['weekday', 'holiday']] = ordinal_encoder.fit_transform(df[['weekday', 'holiday']])\n",
    "# df.head()\n"
   ]
  },
  {
   "attachments": {},
   "cell_type": "markdown",
   "metadata": {},
   "source": [
    "# Encoding using One-Hot Encoder"
   ]
  },
  {
   "cell_type": "code",
   "execution_count": null,
   "metadata": {},
   "outputs": [],
   "source": [
    "#one hot endocing za weather main\n",
    "# Use as many lines of code as you need!\n",
    "OH_encoder = OneHotEncoder(handle_unknown='ignore', sparse=False)\n",
    "OH_cols = pd.DataFrame(OH_encoder.fit_transform(df[['weather_main', 'hour', 'month', 'holiday', 'weekday']]))\n",
    "\n",
    "# One-hot encoding removed index; put it back\n",
    "OH_cols.index = df.index\n",
    "column_name = OH_encoder.get_feature_names_out(['weather_main', 'hour', 'month', 'holiday', 'weekday'])\n",
    "OH_cols.columns = column_name\n",
    "\n",
    "# Remove categorical columns (will replace with one-hot encoding)\n",
    "num_X = df.drop(['weather_main', 'hour', 'month', 'holiday', 'weekday'], axis=1)\n",
    "OH_X = pd.concat([num_X, OH_cols], axis=1)\n",
    "#one_hot_encoded_frame = pd.DataFrame.sparse.from_spmatrix(OH_X, columns= column_name)\n",
    "\n",
    "df=OH_X\n",
    "OH_cols = pd.DataFrame(df[['traffic_volume']])\n",
    "num_X = df.drop(\"traffic_volume\", axis=1)\n",
    "Odf_X = pd.concat([num_X, OH_cols], axis=1)\n",
    "df=Odf_X\n",
    "df.head()\n"
   ]
  },
  {
   "cell_type": "code",
   "execution_count": 10,
   "metadata": {},
   "outputs": [
    {
     "data": {
      "text/html": [
       "<div>\n",
       "<style scoped>\n",
       "    .dataframe tbody tr th:only-of-type {\n",
       "        vertical-align: middle;\n",
       "    }\n",
       "\n",
       "    .dataframe tbody tr th {\n",
       "        vertical-align: top;\n",
       "    }\n",
       "\n",
       "    .dataframe thead th {\n",
       "        text-align: right;\n",
       "    }\n",
       "</style>\n",
       "<table border=\"1\" class=\"dataframe\">\n",
       "  <thead>\n",
       "    <tr style=\"text-align: right;\">\n",
       "      <th></th>\n",
       "      <th>temp</th>\n",
       "      <th>clouds_all</th>\n",
       "      <th>date_time</th>\n",
       "      <th>weekday</th>\n",
       "      <th>date</th>\n",
       "      <th>hour</th>\n",
       "      <th>month</th>\n",
       "      <th>year</th>\n",
       "      <th>weather_main_Clear</th>\n",
       "      <th>weather_main_Clouds</th>\n",
       "      <th>weather_main_Drizzle</th>\n",
       "      <th>weather_main_Fog</th>\n",
       "      <th>weather_main_Rain</th>\n",
       "      <th>weather_main_Snow</th>\n",
       "      <th>weather_main_Thunderstorm</th>\n",
       "      <th>holiday_False</th>\n",
       "      <th>holiday_True</th>\n",
       "      <th>traffic_volume</th>\n",
       "    </tr>\n",
       "  </thead>\n",
       "  <tbody>\n",
       "    <tr>\n",
       "      <th>0</th>\n",
       "      <td>288.28</td>\n",
       "      <td>40</td>\n",
       "      <td>2012-10-02 09:00:00</td>\n",
       "      <td>WeekDay</td>\n",
       "      <td>2012-10-02</td>\n",
       "      <td>9</td>\n",
       "      <td>10</td>\n",
       "      <td>2012</td>\n",
       "      <td>0.0</td>\n",
       "      <td>1.0</td>\n",
       "      <td>0.0</td>\n",
       "      <td>0.0</td>\n",
       "      <td>0.0</td>\n",
       "      <td>0.0</td>\n",
       "      <td>0.0</td>\n",
       "      <td>1.0</td>\n",
       "      <td>0.0</td>\n",
       "      <td>5545</td>\n",
       "    </tr>\n",
       "    <tr>\n",
       "      <th>1</th>\n",
       "      <td>289.36</td>\n",
       "      <td>75</td>\n",
       "      <td>2012-10-02 10:00:00</td>\n",
       "      <td>WeekDay</td>\n",
       "      <td>2012-10-02</td>\n",
       "      <td>10</td>\n",
       "      <td>10</td>\n",
       "      <td>2012</td>\n",
       "      <td>0.0</td>\n",
       "      <td>1.0</td>\n",
       "      <td>0.0</td>\n",
       "      <td>0.0</td>\n",
       "      <td>0.0</td>\n",
       "      <td>0.0</td>\n",
       "      <td>0.0</td>\n",
       "      <td>1.0</td>\n",
       "      <td>0.0</td>\n",
       "      <td>4516</td>\n",
       "    </tr>\n",
       "    <tr>\n",
       "      <th>2</th>\n",
       "      <td>289.58</td>\n",
       "      <td>90</td>\n",
       "      <td>2012-10-02 11:00:00</td>\n",
       "      <td>WeekDay</td>\n",
       "      <td>2012-10-02</td>\n",
       "      <td>11</td>\n",
       "      <td>10</td>\n",
       "      <td>2012</td>\n",
       "      <td>0.0</td>\n",
       "      <td>1.0</td>\n",
       "      <td>0.0</td>\n",
       "      <td>0.0</td>\n",
       "      <td>0.0</td>\n",
       "      <td>0.0</td>\n",
       "      <td>0.0</td>\n",
       "      <td>1.0</td>\n",
       "      <td>0.0</td>\n",
       "      <td>4767</td>\n",
       "    </tr>\n",
       "    <tr>\n",
       "      <th>3</th>\n",
       "      <td>290.13</td>\n",
       "      <td>90</td>\n",
       "      <td>2012-10-02 12:00:00</td>\n",
       "      <td>WeekDay</td>\n",
       "      <td>2012-10-02</td>\n",
       "      <td>12</td>\n",
       "      <td>10</td>\n",
       "      <td>2012</td>\n",
       "      <td>0.0</td>\n",
       "      <td>1.0</td>\n",
       "      <td>0.0</td>\n",
       "      <td>0.0</td>\n",
       "      <td>0.0</td>\n",
       "      <td>0.0</td>\n",
       "      <td>0.0</td>\n",
       "      <td>1.0</td>\n",
       "      <td>0.0</td>\n",
       "      <td>5026</td>\n",
       "    </tr>\n",
       "    <tr>\n",
       "      <th>4</th>\n",
       "      <td>291.14</td>\n",
       "      <td>75</td>\n",
       "      <td>2012-10-02 13:00:00</td>\n",
       "      <td>WeekDay</td>\n",
       "      <td>2012-10-02</td>\n",
       "      <td>13</td>\n",
       "      <td>10</td>\n",
       "      <td>2012</td>\n",
       "      <td>0.0</td>\n",
       "      <td>1.0</td>\n",
       "      <td>0.0</td>\n",
       "      <td>0.0</td>\n",
       "      <td>0.0</td>\n",
       "      <td>0.0</td>\n",
       "      <td>0.0</td>\n",
       "      <td>1.0</td>\n",
       "      <td>0.0</td>\n",
       "      <td>4918</td>\n",
       "    </tr>\n",
       "  </tbody>\n",
       "</table>\n",
       "</div>"
      ],
      "text/plain": [
       "     temp  clouds_all           date_time  weekday        date  hour  month  \\\n",
       "0  288.28          40 2012-10-02 09:00:00  WeekDay  2012-10-02     9     10   \n",
       "1  289.36          75 2012-10-02 10:00:00  WeekDay  2012-10-02    10     10   \n",
       "2  289.58          90 2012-10-02 11:00:00  WeekDay  2012-10-02    11     10   \n",
       "3  290.13          90 2012-10-02 12:00:00  WeekDay  2012-10-02    12     10   \n",
       "4  291.14          75 2012-10-02 13:00:00  WeekDay  2012-10-02    13     10   \n",
       "\n",
       "   year  weather_main_Clear  weather_main_Clouds  weather_main_Drizzle  \\\n",
       "0  2012                 0.0                  1.0                   0.0   \n",
       "1  2012                 0.0                  1.0                   0.0   \n",
       "2  2012                 0.0                  1.0                   0.0   \n",
       "3  2012                 0.0                  1.0                   0.0   \n",
       "4  2012                 0.0                  1.0                   0.0   \n",
       "\n",
       "   weather_main_Fog  weather_main_Rain  weather_main_Snow  \\\n",
       "0               0.0                0.0                0.0   \n",
       "1               0.0                0.0                0.0   \n",
       "2               0.0                0.0                0.0   \n",
       "3               0.0                0.0                0.0   \n",
       "4               0.0                0.0                0.0   \n",
       "\n",
       "   weather_main_Thunderstorm  holiday_False  holiday_True  traffic_volume  \n",
       "0                        0.0            1.0           0.0            5545  \n",
       "1                        0.0            1.0           0.0            4516  \n",
       "2                        0.0            1.0           0.0            4767  \n",
       "3                        0.0            1.0           0.0            5026  \n",
       "4                        0.0            1.0           0.0            4918  "
      ]
     },
     "execution_count": 10,
     "metadata": {},
     "output_type": "execute_result"
    }
   ],
   "source": [
    "#SSS\n",
    "#one hot endocing za weather main\n",
    "# Use as many lines of code as you need!\n",
    "OH_encoder = OneHotEncoder(handle_unknown='ignore', sparse=False)\n",
    "OH_cols = pd.DataFrame(OH_encoder.fit_transform(df[['weather_main','holiday']]))\n",
    "\n",
    "# One-hot encoding removed index; put it back\n",
    "OH_cols.index = df.index\n",
    "column_name = OH_encoder.get_feature_names_out(['weather_main','holiday'])\n",
    "OH_cols.columns = column_name\n",
    "\n",
    "# Remove categorical columns (will replace with one-hot encoding)\n",
    "num_X = df.drop(['weather_main', 'holiday'], axis=1)\n",
    "OH_X = pd.concat([num_X, OH_cols], axis=1)\n",
    "#one_hot_encoded_frame = pd.DataFrame.sparse.from_spmatrix(OH_X, columns= column_name)\n",
    "\n",
    "df=OH_X\n",
    "OH_cols = pd.DataFrame(df[['traffic_volume']])\n",
    "num_X = df.drop(\"traffic_volume\", axis=1)\n",
    "Odf_X = pd.concat([num_X, OH_cols], axis=1)\n",
    "df=Odf_X\n",
    "df.head()"
   ]
  },
  {
   "cell_type": "code",
   "execution_count": 11,
   "metadata": {},
   "outputs": [
    {
     "data": {
      "text/html": [
       "<div>\n",
       "<style scoped>\n",
       "    .dataframe tbody tr th:only-of-type {\n",
       "        vertical-align: middle;\n",
       "    }\n",
       "\n",
       "    .dataframe tbody tr th {\n",
       "        vertical-align: top;\n",
       "    }\n",
       "\n",
       "    .dataframe thead th {\n",
       "        text-align: right;\n",
       "    }\n",
       "</style>\n",
       "<table border=\"1\" class=\"dataframe\">\n",
       "  <thead>\n",
       "    <tr style=\"text-align: right;\">\n",
       "      <th></th>\n",
       "      <th>temp</th>\n",
       "      <th>clouds_all</th>\n",
       "      <th>date_time</th>\n",
       "      <th>date</th>\n",
       "      <th>hour</th>\n",
       "      <th>month</th>\n",
       "      <th>year</th>\n",
       "      <th>weather_main_Clear</th>\n",
       "      <th>weather_main_Clouds</th>\n",
       "      <th>weather_main_Drizzle</th>\n",
       "      <th>weather_main_Fog</th>\n",
       "      <th>weather_main_Rain</th>\n",
       "      <th>weather_main_Snow</th>\n",
       "      <th>weather_main_Thunderstorm</th>\n",
       "      <th>holiday_False</th>\n",
       "      <th>holiday_True</th>\n",
       "      <th>weekday_WeekDay</th>\n",
       "      <th>weekday_Weekend</th>\n",
       "      <th>traffic_volume</th>\n",
       "    </tr>\n",
       "  </thead>\n",
       "  <tbody>\n",
       "    <tr>\n",
       "      <th>0</th>\n",
       "      <td>288.28</td>\n",
       "      <td>40</td>\n",
       "      <td>2012-10-02 09:00:00</td>\n",
       "      <td>2012-10-02</td>\n",
       "      <td>9</td>\n",
       "      <td>10</td>\n",
       "      <td>2012</td>\n",
       "      <td>0.0</td>\n",
       "      <td>1.0</td>\n",
       "      <td>0.0</td>\n",
       "      <td>0.0</td>\n",
       "      <td>0.0</td>\n",
       "      <td>0.0</td>\n",
       "      <td>0.0</td>\n",
       "      <td>1.0</td>\n",
       "      <td>0.0</td>\n",
       "      <td>1.0</td>\n",
       "      <td>0.0</td>\n",
       "      <td>5545</td>\n",
       "    </tr>\n",
       "    <tr>\n",
       "      <th>1</th>\n",
       "      <td>289.36</td>\n",
       "      <td>75</td>\n",
       "      <td>2012-10-02 10:00:00</td>\n",
       "      <td>2012-10-02</td>\n",
       "      <td>10</td>\n",
       "      <td>10</td>\n",
       "      <td>2012</td>\n",
       "      <td>0.0</td>\n",
       "      <td>1.0</td>\n",
       "      <td>0.0</td>\n",
       "      <td>0.0</td>\n",
       "      <td>0.0</td>\n",
       "      <td>0.0</td>\n",
       "      <td>0.0</td>\n",
       "      <td>1.0</td>\n",
       "      <td>0.0</td>\n",
       "      <td>1.0</td>\n",
       "      <td>0.0</td>\n",
       "      <td>4516</td>\n",
       "    </tr>\n",
       "    <tr>\n",
       "      <th>2</th>\n",
       "      <td>289.58</td>\n",
       "      <td>90</td>\n",
       "      <td>2012-10-02 11:00:00</td>\n",
       "      <td>2012-10-02</td>\n",
       "      <td>11</td>\n",
       "      <td>10</td>\n",
       "      <td>2012</td>\n",
       "      <td>0.0</td>\n",
       "      <td>1.0</td>\n",
       "      <td>0.0</td>\n",
       "      <td>0.0</td>\n",
       "      <td>0.0</td>\n",
       "      <td>0.0</td>\n",
       "      <td>0.0</td>\n",
       "      <td>1.0</td>\n",
       "      <td>0.0</td>\n",
       "      <td>1.0</td>\n",
       "      <td>0.0</td>\n",
       "      <td>4767</td>\n",
       "    </tr>\n",
       "    <tr>\n",
       "      <th>3</th>\n",
       "      <td>290.13</td>\n",
       "      <td>90</td>\n",
       "      <td>2012-10-02 12:00:00</td>\n",
       "      <td>2012-10-02</td>\n",
       "      <td>12</td>\n",
       "      <td>10</td>\n",
       "      <td>2012</td>\n",
       "      <td>0.0</td>\n",
       "      <td>1.0</td>\n",
       "      <td>0.0</td>\n",
       "      <td>0.0</td>\n",
       "      <td>0.0</td>\n",
       "      <td>0.0</td>\n",
       "      <td>0.0</td>\n",
       "      <td>1.0</td>\n",
       "      <td>0.0</td>\n",
       "      <td>1.0</td>\n",
       "      <td>0.0</td>\n",
       "      <td>5026</td>\n",
       "    </tr>\n",
       "    <tr>\n",
       "      <th>4</th>\n",
       "      <td>291.14</td>\n",
       "      <td>75</td>\n",
       "      <td>2012-10-02 13:00:00</td>\n",
       "      <td>2012-10-02</td>\n",
       "      <td>13</td>\n",
       "      <td>10</td>\n",
       "      <td>2012</td>\n",
       "      <td>0.0</td>\n",
       "      <td>1.0</td>\n",
       "      <td>0.0</td>\n",
       "      <td>0.0</td>\n",
       "      <td>0.0</td>\n",
       "      <td>0.0</td>\n",
       "      <td>0.0</td>\n",
       "      <td>1.0</td>\n",
       "      <td>0.0</td>\n",
       "      <td>1.0</td>\n",
       "      <td>0.0</td>\n",
       "      <td>4918</td>\n",
       "    </tr>\n",
       "  </tbody>\n",
       "</table>\n",
       "</div>"
      ],
      "text/plain": [
       "     temp  clouds_all           date_time        date  hour  month  year  \\\n",
       "0  288.28          40 2012-10-02 09:00:00  2012-10-02     9     10  2012   \n",
       "1  289.36          75 2012-10-02 10:00:00  2012-10-02    10     10  2012   \n",
       "2  289.58          90 2012-10-02 11:00:00  2012-10-02    11     10  2012   \n",
       "3  290.13          90 2012-10-02 12:00:00  2012-10-02    12     10  2012   \n",
       "4  291.14          75 2012-10-02 13:00:00  2012-10-02    13     10  2012   \n",
       "\n",
       "   weather_main_Clear  weather_main_Clouds  weather_main_Drizzle  \\\n",
       "0                 0.0                  1.0                   0.0   \n",
       "1                 0.0                  1.0                   0.0   \n",
       "2                 0.0                  1.0                   0.0   \n",
       "3                 0.0                  1.0                   0.0   \n",
       "4                 0.0                  1.0                   0.0   \n",
       "\n",
       "   weather_main_Fog  weather_main_Rain  weather_main_Snow  \\\n",
       "0               0.0                0.0                0.0   \n",
       "1               0.0                0.0                0.0   \n",
       "2               0.0                0.0                0.0   \n",
       "3               0.0                0.0                0.0   \n",
       "4               0.0                0.0                0.0   \n",
       "\n",
       "   weather_main_Thunderstorm  holiday_False  holiday_True  weekday_WeekDay  \\\n",
       "0                        0.0            1.0           0.0              1.0   \n",
       "1                        0.0            1.0           0.0              1.0   \n",
       "2                        0.0            1.0           0.0              1.0   \n",
       "3                        0.0            1.0           0.0              1.0   \n",
       "4                        0.0            1.0           0.0              1.0   \n",
       "\n",
       "   weekday_Weekend  traffic_volume  \n",
       "0              0.0            5545  \n",
       "1              0.0            4516  \n",
       "2              0.0            4767  \n",
       "3              0.0            5026  \n",
       "4              0.0            4918  "
      ]
     },
     "execution_count": 11,
     "metadata": {},
     "output_type": "execute_result"
    }
   ],
   "source": [
    "#SSS\n",
    "#one hot endocing za weather main\n",
    "# Use as many lines of code as you need!\n",
    "OH_encoder = OneHotEncoder(handle_unknown='ignore', sparse=False)\n",
    "OH_cols = pd.DataFrame(OH_encoder.fit_transform(df[['weekday']]))\n",
    "\n",
    "# One-hot encoding removed index; put it back\n",
    "OH_cols.index = df.index\n",
    "column_name = OH_encoder.get_feature_names_out(['weekday'])\n",
    "OH_cols.columns = column_name\n",
    "\n",
    "# Remove categorical columns (will replace with one-hot encoding)\n",
    "num_X = df.drop(['weekday'], axis=1)\n",
    "OH_X = pd.concat([num_X, OH_cols], axis=1)\n",
    "#one_hot_encoded_frame = pd.DataFrame.sparse.from_spmatrix(OH_X, columns= column_name)\n",
    "\n",
    "df=OH_X\n",
    "OH_cols = pd.DataFrame(df[['traffic_volume']])\n",
    "num_X = df.drop(\"traffic_volume\", axis=1)\n",
    "Odf_X = pd.concat([num_X, OH_cols], axis=1)\n",
    "df=Odf_X\n",
    "df.head()"
   ]
  },
  {
   "attachments": {},
   "cell_type": "markdown",
   "metadata": {},
   "source": [
    "# Removing encoded columns"
   ]
  },
  {
   "cell_type": "code",
   "execution_count": 12,
   "metadata": {},
   "outputs": [
    {
     "data": {
      "text/html": [
       "<div>\n",
       "<style scoped>\n",
       "    .dataframe tbody tr th:only-of-type {\n",
       "        vertical-align: middle;\n",
       "    }\n",
       "\n",
       "    .dataframe tbody tr th {\n",
       "        vertical-align: top;\n",
       "    }\n",
       "\n",
       "    .dataframe thead th {\n",
       "        text-align: right;\n",
       "    }\n",
       "</style>\n",
       "<table border=\"1\" class=\"dataframe\">\n",
       "  <thead>\n",
       "    <tr style=\"text-align: right;\">\n",
       "      <th></th>\n",
       "      <th>temp</th>\n",
       "      <th>clouds_all</th>\n",
       "      <th>date_time</th>\n",
       "      <th>hour</th>\n",
       "      <th>month</th>\n",
       "      <th>year</th>\n",
       "      <th>weather_main_Clear</th>\n",
       "      <th>weather_main_Clouds</th>\n",
       "      <th>weather_main_Drizzle</th>\n",
       "      <th>weather_main_Fog</th>\n",
       "      <th>weather_main_Rain</th>\n",
       "      <th>weather_main_Snow</th>\n",
       "      <th>weather_main_Thunderstorm</th>\n",
       "      <th>holiday_False</th>\n",
       "      <th>holiday_True</th>\n",
       "      <th>weekday_WeekDay</th>\n",
       "      <th>weekday_Weekend</th>\n",
       "      <th>traffic_volume</th>\n",
       "    </tr>\n",
       "  </thead>\n",
       "  <tbody>\n",
       "    <tr>\n",
       "      <th>0</th>\n",
       "      <td>288.28</td>\n",
       "      <td>40</td>\n",
       "      <td>2012-10-02 09:00:00</td>\n",
       "      <td>9</td>\n",
       "      <td>10</td>\n",
       "      <td>2012</td>\n",
       "      <td>0.0</td>\n",
       "      <td>1.0</td>\n",
       "      <td>0.0</td>\n",
       "      <td>0.0</td>\n",
       "      <td>0.0</td>\n",
       "      <td>0.0</td>\n",
       "      <td>0.0</td>\n",
       "      <td>1.0</td>\n",
       "      <td>0.0</td>\n",
       "      <td>1.0</td>\n",
       "      <td>0.0</td>\n",
       "      <td>5545</td>\n",
       "    </tr>\n",
       "    <tr>\n",
       "      <th>1</th>\n",
       "      <td>289.36</td>\n",
       "      <td>75</td>\n",
       "      <td>2012-10-02 10:00:00</td>\n",
       "      <td>10</td>\n",
       "      <td>10</td>\n",
       "      <td>2012</td>\n",
       "      <td>0.0</td>\n",
       "      <td>1.0</td>\n",
       "      <td>0.0</td>\n",
       "      <td>0.0</td>\n",
       "      <td>0.0</td>\n",
       "      <td>0.0</td>\n",
       "      <td>0.0</td>\n",
       "      <td>1.0</td>\n",
       "      <td>0.0</td>\n",
       "      <td>1.0</td>\n",
       "      <td>0.0</td>\n",
       "      <td>4516</td>\n",
       "    </tr>\n",
       "    <tr>\n",
       "      <th>2</th>\n",
       "      <td>289.58</td>\n",
       "      <td>90</td>\n",
       "      <td>2012-10-02 11:00:00</td>\n",
       "      <td>11</td>\n",
       "      <td>10</td>\n",
       "      <td>2012</td>\n",
       "      <td>0.0</td>\n",
       "      <td>1.0</td>\n",
       "      <td>0.0</td>\n",
       "      <td>0.0</td>\n",
       "      <td>0.0</td>\n",
       "      <td>0.0</td>\n",
       "      <td>0.0</td>\n",
       "      <td>1.0</td>\n",
       "      <td>0.0</td>\n",
       "      <td>1.0</td>\n",
       "      <td>0.0</td>\n",
       "      <td>4767</td>\n",
       "    </tr>\n",
       "    <tr>\n",
       "      <th>3</th>\n",
       "      <td>290.13</td>\n",
       "      <td>90</td>\n",
       "      <td>2012-10-02 12:00:00</td>\n",
       "      <td>12</td>\n",
       "      <td>10</td>\n",
       "      <td>2012</td>\n",
       "      <td>0.0</td>\n",
       "      <td>1.0</td>\n",
       "      <td>0.0</td>\n",
       "      <td>0.0</td>\n",
       "      <td>0.0</td>\n",
       "      <td>0.0</td>\n",
       "      <td>0.0</td>\n",
       "      <td>1.0</td>\n",
       "      <td>0.0</td>\n",
       "      <td>1.0</td>\n",
       "      <td>0.0</td>\n",
       "      <td>5026</td>\n",
       "    </tr>\n",
       "    <tr>\n",
       "      <th>4</th>\n",
       "      <td>291.14</td>\n",
       "      <td>75</td>\n",
       "      <td>2012-10-02 13:00:00</td>\n",
       "      <td>13</td>\n",
       "      <td>10</td>\n",
       "      <td>2012</td>\n",
       "      <td>0.0</td>\n",
       "      <td>1.0</td>\n",
       "      <td>0.0</td>\n",
       "      <td>0.0</td>\n",
       "      <td>0.0</td>\n",
       "      <td>0.0</td>\n",
       "      <td>0.0</td>\n",
       "      <td>1.0</td>\n",
       "      <td>0.0</td>\n",
       "      <td>1.0</td>\n",
       "      <td>0.0</td>\n",
       "      <td>4918</td>\n",
       "    </tr>\n",
       "  </tbody>\n",
       "</table>\n",
       "</div>"
      ],
      "text/plain": [
       "     temp  clouds_all           date_time  hour  month  year  \\\n",
       "0  288.28          40 2012-10-02 09:00:00     9     10  2012   \n",
       "1  289.36          75 2012-10-02 10:00:00    10     10  2012   \n",
       "2  289.58          90 2012-10-02 11:00:00    11     10  2012   \n",
       "3  290.13          90 2012-10-02 12:00:00    12     10  2012   \n",
       "4  291.14          75 2012-10-02 13:00:00    13     10  2012   \n",
       "\n",
       "   weather_main_Clear  weather_main_Clouds  weather_main_Drizzle  \\\n",
       "0                 0.0                  1.0                   0.0   \n",
       "1                 0.0                  1.0                   0.0   \n",
       "2                 0.0                  1.0                   0.0   \n",
       "3                 0.0                  1.0                   0.0   \n",
       "4                 0.0                  1.0                   0.0   \n",
       "\n",
       "   weather_main_Fog  weather_main_Rain  weather_main_Snow  \\\n",
       "0               0.0                0.0                0.0   \n",
       "1               0.0                0.0                0.0   \n",
       "2               0.0                0.0                0.0   \n",
       "3               0.0                0.0                0.0   \n",
       "4               0.0                0.0                0.0   \n",
       "\n",
       "   weather_main_Thunderstorm  holiday_False  holiday_True  weekday_WeekDay  \\\n",
       "0                        0.0            1.0           0.0              1.0   \n",
       "1                        0.0            1.0           0.0              1.0   \n",
       "2                        0.0            1.0           0.0              1.0   \n",
       "3                        0.0            1.0           0.0              1.0   \n",
       "4                        0.0            1.0           0.0              1.0   \n",
       "\n",
       "   weekday_Weekend  traffic_volume  \n",
       "0              0.0            5545  \n",
       "1              0.0            4516  \n",
       "2              0.0            4767  \n",
       "3              0.0            5026  \n",
       "4              0.0            4918  "
      ]
     },
     "execution_count": 12,
     "metadata": {},
     "output_type": "execute_result"
    }
   ],
   "source": [
    "#SSS\n",
    "df.drop(columns = ['date'],inplace = True)\n",
    "df.head()"
   ]
  },
  {
   "cell_type": "code",
   "execution_count": 13,
   "metadata": {},
   "outputs": [
    {
     "data": {
      "text/html": [
       "<div>\n",
       "<style scoped>\n",
       "    .dataframe tbody tr th:only-of-type {\n",
       "        vertical-align: middle;\n",
       "    }\n",
       "\n",
       "    .dataframe tbody tr th {\n",
       "        vertical-align: top;\n",
       "    }\n",
       "\n",
       "    .dataframe thead th {\n",
       "        text-align: right;\n",
       "    }\n",
       "</style>\n",
       "<table border=\"1\" class=\"dataframe\">\n",
       "  <thead>\n",
       "    <tr style=\"text-align: right;\">\n",
       "      <th></th>\n",
       "      <th>temp</th>\n",
       "      <th>clouds_all</th>\n",
       "      <th>hour</th>\n",
       "      <th>month</th>\n",
       "      <th>year</th>\n",
       "      <th>weather_main_Clear</th>\n",
       "      <th>weather_main_Clouds</th>\n",
       "      <th>weather_main_Drizzle</th>\n",
       "      <th>weather_main_Fog</th>\n",
       "      <th>weather_main_Rain</th>\n",
       "      <th>weather_main_Snow</th>\n",
       "      <th>weather_main_Thunderstorm</th>\n",
       "      <th>holiday_False</th>\n",
       "      <th>holiday_True</th>\n",
       "      <th>weekday_WeekDay</th>\n",
       "      <th>weekday_Weekend</th>\n",
       "      <th>traffic_volume</th>\n",
       "    </tr>\n",
       "  </thead>\n",
       "  <tbody>\n",
       "    <tr>\n",
       "      <th>0</th>\n",
       "      <td>288.28</td>\n",
       "      <td>40</td>\n",
       "      <td>9</td>\n",
       "      <td>10</td>\n",
       "      <td>2012</td>\n",
       "      <td>0.0</td>\n",
       "      <td>1.0</td>\n",
       "      <td>0.0</td>\n",
       "      <td>0.0</td>\n",
       "      <td>0.0</td>\n",
       "      <td>0.0</td>\n",
       "      <td>0.0</td>\n",
       "      <td>1.0</td>\n",
       "      <td>0.0</td>\n",
       "      <td>1.0</td>\n",
       "      <td>0.0</td>\n",
       "      <td>5545</td>\n",
       "    </tr>\n",
       "    <tr>\n",
       "      <th>1</th>\n",
       "      <td>289.36</td>\n",
       "      <td>75</td>\n",
       "      <td>10</td>\n",
       "      <td>10</td>\n",
       "      <td>2012</td>\n",
       "      <td>0.0</td>\n",
       "      <td>1.0</td>\n",
       "      <td>0.0</td>\n",
       "      <td>0.0</td>\n",
       "      <td>0.0</td>\n",
       "      <td>0.0</td>\n",
       "      <td>0.0</td>\n",
       "      <td>1.0</td>\n",
       "      <td>0.0</td>\n",
       "      <td>1.0</td>\n",
       "      <td>0.0</td>\n",
       "      <td>4516</td>\n",
       "    </tr>\n",
       "    <tr>\n",
       "      <th>2</th>\n",
       "      <td>289.58</td>\n",
       "      <td>90</td>\n",
       "      <td>11</td>\n",
       "      <td>10</td>\n",
       "      <td>2012</td>\n",
       "      <td>0.0</td>\n",
       "      <td>1.0</td>\n",
       "      <td>0.0</td>\n",
       "      <td>0.0</td>\n",
       "      <td>0.0</td>\n",
       "      <td>0.0</td>\n",
       "      <td>0.0</td>\n",
       "      <td>1.0</td>\n",
       "      <td>0.0</td>\n",
       "      <td>1.0</td>\n",
       "      <td>0.0</td>\n",
       "      <td>4767</td>\n",
       "    </tr>\n",
       "    <tr>\n",
       "      <th>3</th>\n",
       "      <td>290.13</td>\n",
       "      <td>90</td>\n",
       "      <td>12</td>\n",
       "      <td>10</td>\n",
       "      <td>2012</td>\n",
       "      <td>0.0</td>\n",
       "      <td>1.0</td>\n",
       "      <td>0.0</td>\n",
       "      <td>0.0</td>\n",
       "      <td>0.0</td>\n",
       "      <td>0.0</td>\n",
       "      <td>0.0</td>\n",
       "      <td>1.0</td>\n",
       "      <td>0.0</td>\n",
       "      <td>1.0</td>\n",
       "      <td>0.0</td>\n",
       "      <td>5026</td>\n",
       "    </tr>\n",
       "    <tr>\n",
       "      <th>4</th>\n",
       "      <td>291.14</td>\n",
       "      <td>75</td>\n",
       "      <td>13</td>\n",
       "      <td>10</td>\n",
       "      <td>2012</td>\n",
       "      <td>0.0</td>\n",
       "      <td>1.0</td>\n",
       "      <td>0.0</td>\n",
       "      <td>0.0</td>\n",
       "      <td>0.0</td>\n",
       "      <td>0.0</td>\n",
       "      <td>0.0</td>\n",
       "      <td>1.0</td>\n",
       "      <td>0.0</td>\n",
       "      <td>1.0</td>\n",
       "      <td>0.0</td>\n",
       "      <td>4918</td>\n",
       "    </tr>\n",
       "  </tbody>\n",
       "</table>\n",
       "</div>"
      ],
      "text/plain": [
       "     temp  clouds_all  hour  month  year  weather_main_Clear  \\\n",
       "0  288.28          40     9     10  2012                 0.0   \n",
       "1  289.36          75    10     10  2012                 0.0   \n",
       "2  289.58          90    11     10  2012                 0.0   \n",
       "3  290.13          90    12     10  2012                 0.0   \n",
       "4  291.14          75    13     10  2012                 0.0   \n",
       "\n",
       "   weather_main_Clouds  weather_main_Drizzle  weather_main_Fog  \\\n",
       "0                  1.0                   0.0               0.0   \n",
       "1                  1.0                   0.0               0.0   \n",
       "2                  1.0                   0.0               0.0   \n",
       "3                  1.0                   0.0               0.0   \n",
       "4                  1.0                   0.0               0.0   \n",
       "\n",
       "   weather_main_Rain  weather_main_Snow  weather_main_Thunderstorm  \\\n",
       "0                0.0                0.0                        0.0   \n",
       "1                0.0                0.0                        0.0   \n",
       "2                0.0                0.0                        0.0   \n",
       "3                0.0                0.0                        0.0   \n",
       "4                0.0                0.0                        0.0   \n",
       "\n",
       "   holiday_False  holiday_True  weekday_WeekDay  weekday_Weekend  \\\n",
       "0            1.0           0.0              1.0              0.0   \n",
       "1            1.0           0.0              1.0              0.0   \n",
       "2            1.0           0.0              1.0              0.0   \n",
       "3            1.0           0.0              1.0              0.0   \n",
       "4            1.0           0.0              1.0              0.0   \n",
       "\n",
       "   traffic_volume  \n",
       "0            5545  \n",
       "1            4516  \n",
       "2            4767  \n",
       "3            5026  \n",
       "4            4918  "
      ]
     },
     "execution_count": 13,
     "metadata": {},
     "output_type": "execute_result"
    }
   ],
   "source": [
    "#SSS\n",
    "df.drop(columns = ['date_time'],inplace = True)\n",
    "df.head()"
   ]
  },
  {
   "attachments": {},
   "cell_type": "markdown",
   "metadata": {},
   "source": [
    "Logistic Regression,\n",
    "Support vector machine,\n",
    "Decision tree,\n",
    "Random forest,\n",
    "Neural networks algorithms - ne postoji, ali predstavlja familiju algoritama koji omogucavaju regresiju."
   ]
  },
  {
   "attachments": {},
   "cell_type": "markdown",
   "metadata": {},
   "source": [
    "### Splitting data"
   ]
  },
  {
   "cell_type": "code",
   "execution_count": null,
   "metadata": {},
   "outputs": [],
   "source": [
    "# # SPLITTING DATA\n",
    "# y = df.traffic_volume\n",
    "# df_withoutTrafficVolume = df.loc[:, df.columns != 'traffic_volume']\n",
    "# X = df[df_withoutTrafficVolume.columns]\n",
    "# #print(y[:10])\n",
    "\n",
    "# #podela podataka na train i test skupove\n",
    "# train_X, val_X, train_y, val_y = train_test_split(X, y, random_state=0)\n",
    "\n",
    "# print(\"TrainX.shape:\")\n",
    "# print(train_X.shape)\n",
    "# print(\"val_X.shape:\")\n",
    "# print(val_X.shape)\n",
    "# print(\"train_y.shape:\")\n",
    "# print(train_y.shape)\n",
    "# print(\"val_y.shape:\")\n",
    "# print(val_y.shape)\n",
    "# # print(train_y[:10])\n",
    "# # print(val_y[:10])\n",
    "\n",
    "# #df.head()\n"
   ]
  },
  {
   "attachments": {},
   "cell_type": "markdown",
   "metadata": {},
   "source": [
    "### DummyRegressor\n"
   ]
  },
  {
   "cell_type": "code",
   "execution_count": null,
   "metadata": {},
   "outputs": [],
   "source": [
    "from sklearn.dummy import DummyRegressor\n",
    "from sklearn.metrics import mean_squared_error, r2_score, median_absolute_error\n",
    "\n",
    "lm = LinearRegression().fit(train_X, train_y)\n",
    "\n",
    "lm_dummy_mean = DummyRegressor(strategy = 'mean').fit(train_X, train_y)\n",
    "  \n",
    "lm_dummy_median = DummyRegressor(strategy = 'median').fit(train_X, train_y)\n",
    "y_predict = lm.predict(val_X)\n",
    "y_predict_dummy_mean = lm_dummy_mean.predict(val_X)\n",
    "y_predict_dummy_median = lm_dummy_median.predict(val_X)\n",
    "\n",
    "\n",
    "print('Linear model, coefficients: ', lm.coef_)\n",
    "print(\"Mean squared error (dummy): {:.2f}\".format(np.sqrt(mean_squared_error(val_y,\n",
    "                                                                     y_predict_dummy_mean))))\n",
    "print(\"Mean squared error (linear model): {:.2f}\".format(np.sqrt(\n",
    "    mean_squared_error(val_y, y_predict))))\n",
    "\n",
    "print(\"Median absolute error (dummy): {:.2f}\".format(median_absolute_error(val_y,\n",
    "                                                                           y_predict_dummy_median)))\n",
    "print(\"Median absolute error (linear model): {:.2f}\".format(\n",
    "    median_absolute_error(val_y, y_predict)))\n",
    "\n",
    "print(\"r2_score (dummy mean): {:.2f}\".format(\n",
    "    r2_score(val_y, y_predict_dummy_mean)))\n",
    "print(\"r2_score (dummy median): {:.2f}\".format(\n",
    "    r2_score(val_y, y_predict_dummy_median)))\n",
    "print(\"r2_score (linear model): {:.2f}\".format(r2_score(val_y, y_predict)))\n"
   ]
  },
  {
   "attachments": {},
   "cell_type": "markdown",
   "metadata": {},
   "source": [
    "### Split Data"
   ]
  },
  {
   "cell_type": "code",
   "execution_count": null,
   "metadata": {},
   "outputs": [],
   "source": [
    "df.head()"
   ]
  },
  {
   "cell_type": "code",
   "execution_count": 14,
   "metadata": {},
   "outputs": [
    {
     "name": "stdout",
     "output_type": "stream",
     "text": [
      "Training Features Shape: (38555, 16)\n",
      "Training Labels Shape: (38555,)\n",
      "Testing Features Shape: (9639, 16)\n",
      "Testing Labels Shape: (9639,)\n"
     ]
    },
    {
     "data": {
      "text/html": [
       "<div>\n",
       "<style scoped>\n",
       "    .dataframe tbody tr th:only-of-type {\n",
       "        vertical-align: middle;\n",
       "    }\n",
       "\n",
       "    .dataframe tbody tr th {\n",
       "        vertical-align: top;\n",
       "    }\n",
       "\n",
       "    .dataframe thead th {\n",
       "        text-align: right;\n",
       "    }\n",
       "</style>\n",
       "<table border=\"1\" class=\"dataframe\">\n",
       "  <thead>\n",
       "    <tr style=\"text-align: right;\">\n",
       "      <th></th>\n",
       "      <th>temp</th>\n",
       "      <th>clouds_all</th>\n",
       "      <th>hour</th>\n",
       "      <th>month</th>\n",
       "      <th>year</th>\n",
       "      <th>weather_main_Clear</th>\n",
       "      <th>weather_main_Clouds</th>\n",
       "      <th>weather_main_Drizzle</th>\n",
       "      <th>weather_main_Fog</th>\n",
       "      <th>weather_main_Rain</th>\n",
       "      <th>weather_main_Snow</th>\n",
       "      <th>weather_main_Thunderstorm</th>\n",
       "      <th>holiday_False</th>\n",
       "      <th>holiday_True</th>\n",
       "      <th>weekday_WeekDay</th>\n",
       "      <th>weekday_Weekend</th>\n",
       "      <th>traffic_volume</th>\n",
       "    </tr>\n",
       "  </thead>\n",
       "  <tbody>\n",
       "    <tr>\n",
       "      <th>0</th>\n",
       "      <td>288.28</td>\n",
       "      <td>40</td>\n",
       "      <td>9</td>\n",
       "      <td>10</td>\n",
       "      <td>2012</td>\n",
       "      <td>0.0</td>\n",
       "      <td>1.0</td>\n",
       "      <td>0.0</td>\n",
       "      <td>0.0</td>\n",
       "      <td>0.0</td>\n",
       "      <td>0.0</td>\n",
       "      <td>0.0</td>\n",
       "      <td>1.0</td>\n",
       "      <td>0.0</td>\n",
       "      <td>1.0</td>\n",
       "      <td>0.0</td>\n",
       "      <td>5545</td>\n",
       "    </tr>\n",
       "    <tr>\n",
       "      <th>1</th>\n",
       "      <td>289.36</td>\n",
       "      <td>75</td>\n",
       "      <td>10</td>\n",
       "      <td>10</td>\n",
       "      <td>2012</td>\n",
       "      <td>0.0</td>\n",
       "      <td>1.0</td>\n",
       "      <td>0.0</td>\n",
       "      <td>0.0</td>\n",
       "      <td>0.0</td>\n",
       "      <td>0.0</td>\n",
       "      <td>0.0</td>\n",
       "      <td>1.0</td>\n",
       "      <td>0.0</td>\n",
       "      <td>1.0</td>\n",
       "      <td>0.0</td>\n",
       "      <td>4516</td>\n",
       "    </tr>\n",
       "    <tr>\n",
       "      <th>2</th>\n",
       "      <td>289.58</td>\n",
       "      <td>90</td>\n",
       "      <td>11</td>\n",
       "      <td>10</td>\n",
       "      <td>2012</td>\n",
       "      <td>0.0</td>\n",
       "      <td>1.0</td>\n",
       "      <td>0.0</td>\n",
       "      <td>0.0</td>\n",
       "      <td>0.0</td>\n",
       "      <td>0.0</td>\n",
       "      <td>0.0</td>\n",
       "      <td>1.0</td>\n",
       "      <td>0.0</td>\n",
       "      <td>1.0</td>\n",
       "      <td>0.0</td>\n",
       "      <td>4767</td>\n",
       "    </tr>\n",
       "    <tr>\n",
       "      <th>3</th>\n",
       "      <td>290.13</td>\n",
       "      <td>90</td>\n",
       "      <td>12</td>\n",
       "      <td>10</td>\n",
       "      <td>2012</td>\n",
       "      <td>0.0</td>\n",
       "      <td>1.0</td>\n",
       "      <td>0.0</td>\n",
       "      <td>0.0</td>\n",
       "      <td>0.0</td>\n",
       "      <td>0.0</td>\n",
       "      <td>0.0</td>\n",
       "      <td>1.0</td>\n",
       "      <td>0.0</td>\n",
       "      <td>1.0</td>\n",
       "      <td>0.0</td>\n",
       "      <td>5026</td>\n",
       "    </tr>\n",
       "    <tr>\n",
       "      <th>4</th>\n",
       "      <td>291.14</td>\n",
       "      <td>75</td>\n",
       "      <td>13</td>\n",
       "      <td>10</td>\n",
       "      <td>2012</td>\n",
       "      <td>0.0</td>\n",
       "      <td>1.0</td>\n",
       "      <td>0.0</td>\n",
       "      <td>0.0</td>\n",
       "      <td>0.0</td>\n",
       "      <td>0.0</td>\n",
       "      <td>0.0</td>\n",
       "      <td>1.0</td>\n",
       "      <td>0.0</td>\n",
       "      <td>1.0</td>\n",
       "      <td>0.0</td>\n",
       "      <td>4918</td>\n",
       "    </tr>\n",
       "  </tbody>\n",
       "</table>\n",
       "</div>"
      ],
      "text/plain": [
       "     temp  clouds_all  hour  month  year  weather_main_Clear  \\\n",
       "0  288.28          40     9     10  2012                 0.0   \n",
       "1  289.36          75    10     10  2012                 0.0   \n",
       "2  289.58          90    11     10  2012                 0.0   \n",
       "3  290.13          90    12     10  2012                 0.0   \n",
       "4  291.14          75    13     10  2012                 0.0   \n",
       "\n",
       "   weather_main_Clouds  weather_main_Drizzle  weather_main_Fog  \\\n",
       "0                  1.0                   0.0               0.0   \n",
       "1                  1.0                   0.0               0.0   \n",
       "2                  1.0                   0.0               0.0   \n",
       "3                  1.0                   0.0               0.0   \n",
       "4                  1.0                   0.0               0.0   \n",
       "\n",
       "   weather_main_Rain  weather_main_Snow  weather_main_Thunderstorm  \\\n",
       "0                0.0                0.0                        0.0   \n",
       "1                0.0                0.0                        0.0   \n",
       "2                0.0                0.0                        0.0   \n",
       "3                0.0                0.0                        0.0   \n",
       "4                0.0                0.0                        0.0   \n",
       "\n",
       "   holiday_False  holiday_True  weekday_WeekDay  weekday_Weekend  \\\n",
       "0            1.0           0.0              1.0              0.0   \n",
       "1            1.0           0.0              1.0              0.0   \n",
       "2            1.0           0.0              1.0              0.0   \n",
       "3            1.0           0.0              1.0              0.0   \n",
       "4            1.0           0.0              1.0              0.0   \n",
       "\n",
       "   traffic_volume  \n",
       "0            5545  \n",
       "1            4516  \n",
       "2            4767  \n",
       "3            5026  \n",
       "4            4918  "
      ]
     },
     "execution_count": 14,
     "metadata": {},
     "output_type": "execute_result"
    }
   ],
   "source": [
    "#SSS\n",
    "# Using Skicit-learn to split data into training and testing sets\n",
    "from sklearn.model_selection import train_test_split\n",
    "pdf=df.copy()\n",
    "labels = np.array(pdf['traffic_volume'])\n",
    "features= pdf.drop('traffic_volume', axis = 1)\n",
    "\n",
    "#saving names for later use\n",
    "feature_list = list(features.columns)\n",
    "\n",
    "# Convert to numpy array\n",
    "features = np.array(features)\n",
    "\n",
    "# Split the data into training and testing sets\n",
    "train_features, test_features, train_labels, test_labels = train_test_split(features, labels, test_size = 0.20, random_state = 42)\n",
    "\n",
    "print('Training Features Shape:', train_features.shape)\n",
    "print('Training Labels Shape:', train_labels.shape)\n",
    "print('Testing Features Shape:', test_features.shape)\n",
    "print('Testing Labels Shape:', test_labels.shape)\n",
    "\n",
    "pdf.head()"
   ]
  },
  {
   "attachments": {},
   "cell_type": "markdown",
   "metadata": {},
   "source": [
    "### random forest regresson"
   ]
  },
  {
   "cell_type": "code",
   "execution_count": 15,
   "metadata": {},
   "outputs": [
    {
     "name": "stdout",
     "output_type": "stream",
     "text": [
      "Mean Absolute Error: 283.57 people.\n",
      "MSE using RandomForestRegressor: 482.897451986568\n",
      "[ 2.18368846 52.15699659  6.49978012 ...  5.27225673 17.76984564\n",
      "  1.23705093]\n",
      "Accuracy: 22.26 %.\n"
     ]
    }
   ],
   "source": [
    "#SSS\n",
    "# Instantiate model \n",
    "rf = RandomForestRegressor(n_estimators= 100, random_state=0)#n_estimators: int = 100, *, criterion: str = \"squared_error\", max_depth: Any | None = None, min_samples_split: int = 2, min_samples_leaf: int = 1, min_weight_fraction_leaf: float = 0, max_features: str = \"auto\", max_leaf_nodes: Any | None = None, min_impurity_decrease: float = 0, bootstrap: bool = True, oob_score: bool = False, n_jobs: Any | None = None, random_state: Any | None = None, verbose: int = 0, warm_start: bool = False, ccp_alpha: float = 0, max_samples: Any | None = None\n",
    "\n",
    "# Train the model on training data\n",
    "rf.fit(train_features, train_labels);\n",
    "\n",
    "# Use the forest's predict method on the test data\n",
    "predictions = rf.predict(test_features)\n",
    "\n",
    "# Calculate the absolute errors\n",
    "errors = abs(predictions - test_labels)\n",
    "\n",
    "# Print out the mean absolute error (mae)\n",
    "print('Mean Absolute Error:', round(np.mean(errors), 2), 'people.')\n",
    "MSERandomFR = np.sqrt(mean_squared_error(test_labels, predictions))\n",
    "\n",
    "print(\"MSE using RandomForestRegressor: \" + str(MSERandomFR))\n",
    "\n",
    "# Calculate mean absolute percentage error (MAPE)\n",
    "mape = 100*(errors / test_labels)\n",
    "\n",
    "print(mape)\n",
    "\n",
    "# Calculate and display accuracy\n",
    "accuracy = 100 - np.mean(mape)\n",
    "print('Accuracy:', round(accuracy, 2), '%.')"
   ]
  },
  {
   "attachments": {},
   "cell_type": "markdown",
   "metadata": {},
   "source": [
    "### predictions vs real data"
   ]
  },
  {
   "cell_type": "code",
   "execution_count": null,
   "metadata": {},
   "outputs": [],
   "source": [
    "x_ax = range(len(test_labels))\n",
    "plt.plot(x_ax, test_labels, label=\"original\")\n",
    "plt.plot(x_ax, predictions, label=\"predicted\")\n",
    "plt.title(\"RandomForestRegressor\")\n",
    "plt.xlabel('X-axis')\n",
    "plt.ylabel('Y-axis')\n",
    "plt.legend(loc='best',fancybox=True, shadow=True)\n",
    "plt.grid(True)\n",
    "plt.show()\n",
    "\n",
    "x_ay = range(len(train_labels))\n",
    "\n",
    "plt.scatter(x_ay, train_labels,color='g') \n",
    "plt.plot(test_features, predictions,color='k') \n",
    "plt.show()"
   ]
  },
  {
   "cell_type": "code",
   "execution_count": null,
   "metadata": {},
   "outputs": [],
   "source": [
    "pdf.head()"
   ]
  },
  {
   "attachments": {},
   "cell_type": "markdown",
   "metadata": {},
   "source": [
    "### variable importance"
   ]
  },
  {
   "cell_type": "code",
   "execution_count": null,
   "metadata": {},
   "outputs": [],
   "source": [
    "pdf.head()\n"
   ]
  },
  {
   "attachments": {},
   "cell_type": "markdown",
   "metadata": {},
   "source": [
    "## Univariate Feature selection "
   ]
  },
  {
   "cell_type": "code",
   "execution_count": 16,
   "metadata": {},
   "outputs": [
    {
     "name": "stdout",
     "output_type": "stream",
     "text": [
      "                        Specs     Score\n",
      "2                        hour  1.363976\n",
      "0                        temp  0.400958\n",
      "3                       month  0.179626\n",
      "15            weekday_Weekend  0.127831\n",
      "14            weekday_WeekDay  0.125386\n",
      "4                        year  0.118620\n",
      "1                  clouds_all  0.104936\n",
      "6         weather_main_Clouds  0.017980\n",
      "5          weather_main_Clear  0.016406\n",
      "8            weather_main_Fog  0.013347\n",
      "10          weather_main_Snow  0.003487\n",
      "12              holiday_False  0.003091\n",
      "13               holiday_True  0.000174\n",
      "7        weather_main_Drizzle  0.000000\n",
      "9           weather_main_Rain  0.000000\n",
      "11  weather_main_Thunderstorm  0.000000\n"
     ]
    }
   ],
   "source": [
    "from sklearn.feature_selection import SelectKBest\n",
    "from sklearn.feature_selection import mutual_info_regression\n",
    "\n",
    "y = pdf.traffic_volume\n",
    "df_withoutTrafficVolume = pdf.loc[:, pdf.columns != 'traffic_volume']\n",
    "X = pdf[df_withoutTrafficVolume.columns]\n",
    "\n",
    "bestfeatures = SelectKBest(score_func=mutual_info_regression, k='all')\n",
    "fit = bestfeatures.fit(X, y)\n",
    "dfscores = pd.DataFrame(fit.scores_)\n",
    "dfcolumns = pd.DataFrame(X.columns)\n",
    "#concat two dataframes for better visualization \n",
    "featureScores = pd.concat([dfcolumns,dfscores],axis=1)\n",
    "featureScores.columns = ['Specs','Score']  #naming the dataframe columns\n",
    "print(featureScores.nlargest(X.columns.size,'Score'))  #print 10 best features\n"
   ]
  },
  {
   "attachments": {},
   "cell_type": "markdown",
   "metadata": {},
   "source": [
    "### Linear Regression Feature Importance"
   ]
  },
  {
   "cell_type": "code",
   "execution_count": 17,
   "metadata": {},
   "outputs": [
    {
     "name": "stdout",
     "output_type": "stream",
     "text": [
      "Feature: holiday_True, Score: -762.70943\n",
      "Feature: weekday_Weekend, Score: -476.45085\n",
      "Feature: weather_main_Thunderstorm, Score: -358.12832\n",
      "Feature: weather_main_Rain, Score: -20.94477\n",
      "Feature: month, Score: -13.46513\n",
      "Feature: weather_main_Drizzle, Score: -5.52231\n",
      "Feature: year, Score: -0.30412\n",
      "Feature: clouds_all, Score: 2.20717\n",
      "Feature: weather_main_Snow, Score: 8.64471\n",
      "Feature: temp, Score: 17.02233\n",
      "Feature: weather_main_Fog, Score: 19.08867\n",
      "Feature: weather_main_Clear, Score: 37.04474\n",
      "Feature: hour, Score: 93.90209\n",
      "Feature: weather_main_Clouds, Score: 319.81728\n",
      "Feature: weekday_WeekDay, Score: 476.45085\n",
      "Feature: holiday_False, Score: 762.70943\n"
     ]
    },
    {
     "data": {
      "image/png": "[encoded data removed]",
      "text/plain": [
       "<Figure size 640x480 with 1 Axes>"
      ]
     },
     "metadata": {},
     "output_type": "display_data"
    }
   ],
   "source": [
    "from matplotlib import pyplot\n",
    "\n",
    "model = LinearRegression()\n",
    "# fit the model\n",
    "model.fit(X, y)\n",
    "# get importance\n",
    "importance = sorted(zip(model.coef_, X.columns), key = lambda x: x[0])\n",
    "# summarize feature importance\n",
    "for coef, feat in importance:\n",
    "\tprint('Feature: %s, Score: %.5f' % (feat, coef))\n",
    "# plot feature importance\n",
    "pyplot.barh([x[1] for x in importance], [x[0] for x in importance])\n",
    "pyplot.show()\n"
   ]
  },
  {
   "attachments": {},
   "cell_type": "markdown",
   "metadata": {},
   "source": [
    "### CART Decision Tree Feature Importance"
   ]
  },
  {
   "cell_type": "code",
   "execution_count": 18,
   "metadata": {},
   "outputs": [
    {
     "name": "stdout",
     "output_type": "stream",
     "text": [
      "Feature: holiday_True, Score: 0.00000\n",
      "Feature: holiday_False, Score: 0.00002\n",
      "Feature: weather_main_Thunderstorm, Score: 0.00013\n",
      "Feature: weather_main_Drizzle, Score: 0.00013\n",
      "Feature: weather_main_Rain, Score: 0.00046\n",
      "Feature: weather_main_Snow, Score: 0.00058\n",
      "Feature: weather_main_Fog, Score: 0.00095\n",
      "Feature: weather_main_Clear, Score: 0.00103\n",
      "Feature: weekday_Weekend, Score: 0.00190\n",
      "Feature: weather_main_Clouds, Score: 0.00224\n",
      "Feature: clouds_all, Score: 0.00672\n",
      "Feature: year, Score: 0.01014\n",
      "Feature: month, Score: 0.01119\n",
      "Feature: temp, Score: 0.04356\n",
      "Feature: weekday_WeekDay, Score: 0.09366\n",
      "Feature: hour, Score: 0.82730\n"
     ]
    },
    {
     "data": {
      "image/png": "[encoded data removed]",
      "text/plain": [
       "<Figure size 640x480 with 1 Axes>"
      ]
     },
     "metadata": {},
     "output_type": "display_data"
    }
   ],
   "source": [
    "model = DecisionTreeRegressor()\n",
    "# fit the model\n",
    "model.fit(X, y)\n",
    "# get importance\n",
    "importance = sorted(zip(model.feature_importances_, X.columns), key = lambda x: x[0])\n",
    "\n",
    "# summarize feature importance\n",
    "for coef, feat in importance:\n",
    " print('Feature: %s, Score: %.5f' % (feat, coef))\n",
    "# plot feature importance\n",
    "pyplot.barh([x[1] for x in importance], [x[0] for x in importance])\n",
    "pyplot.show()\n"
   ]
  },
  {
   "attachments": {},
   "cell_type": "markdown",
   "metadata": {},
   "source": [
    "### Random Forest Regression Feature Importance"
   ]
  },
  {
   "cell_type": "code",
   "execution_count": 19,
   "metadata": {},
   "outputs": [
    {
     "name": "stdout",
     "output_type": "stream",
     "text": [
      "Variable: hour                 Importance: 0.83\n",
      "Variable: weekday_Weekend      Importance: 0.06\n",
      "Variable: temp                 Importance: 0.04\n",
      "Variable: weekday_WeekDay      Importance: 0.04\n",
      "Variable: clouds_all           Importance: 0.01\n",
      "Variable: month                Importance: 0.01\n",
      "Variable: year                 Importance: 0.01\n",
      "Variable: weather_main_Clear   Importance: 0.0\n",
      "Variable: weather_main_Clouds  Importance: 0.0\n",
      "Variable: weather_main_Drizzle Importance: 0.0\n",
      "Variable: weather_main_Fog     Importance: 0.0\n",
      "Variable: weather_main_Rain    Importance: 0.0\n",
      "Variable: weather_main_Snow    Importance: 0.0\n",
      "Variable: weather_main_Thunderstorm Importance: 0.0\n",
      "Variable: holiday_False        Importance: 0.0\n",
      "Variable: holiday_True         Importance: 0.0\n"
     ]
    }
   ],
   "source": [
    "# Get numerical feature importances\n",
    "importances = list(rf.feature_importances_)\n",
    "\n",
    "# List of tuples with variable and importance\n",
    "feature_importances = [(feature, round(importance, 2)) for feature, importance in zip(feature_list, importances)]\n",
    "\n",
    "# Sort the feature importances by most important first\n",
    "feature_importances = sorted(feature_importances, key = lambda x: x[1], reverse = True)\n",
    "\n",
    "# Print out the feature and importances \n",
    "[print('Variable: {:20} Importance: {}'.format(*pair)) for pair in feature_importances];"
   ]
  },
  {
   "attachments": {},
   "cell_type": "markdown",
   "metadata": {},
   "source": [
    " ### Method for testing various models"
   ]
  },
  {
   "cell_type": "code",
   "execution_count": 20,
   "metadata": {},
   "outputs": [],
   "source": [
    "#SSS\n",
    "from sklearn.metrics import r2_score\n",
    "def train_test_various_models(models, X_train, X_test, y_train, y_test):\n",
    "    \"\"\"trains and test given models on given data\"\"\"\n",
    "    data_table=pd.DataFrame(columns=['model','r2_score training', 'r2_score test', 'MSE training', 'MSE test'])\n",
    "    for model_name, model in models.items():\n",
    "        model.fit(X_train, y_train)\n",
    "        y_train_pred = model.predict(X_train)\n",
    "        y_test_pred = model.predict(X_test)\n",
    "        num_rows = data_table.shape[0]\n",
    "        data_table.loc[num_rows+1] = [model_name, r2_score(y_train, y_train_pred),\n",
    "         r2_score(y_test, y_test_pred),\n",
    "          np.sqrt(mean_squared_error(y_train, y_train_pred)),\n",
    "           np.sqrt(mean_squared_error(y_test, y_test_pred))]\n",
    "\n",
    "    return data_table\n",
    "\n"
   ]
  },
  {
   "attachments": {},
   "cell_type": "markdown",
   "metadata": {},
   "source": [
    "### Train and test various models"
   ]
  },
  {
   "cell_type": "code",
   "execution_count": 21,
   "metadata": {},
   "outputs": [
    {
     "data": {
      "text/html": [
       "<div>\n",
       "<style scoped>\n",
       "    .dataframe tbody tr th:only-of-type {\n",
       "        vertical-align: middle;\n",
       "    }\n",
       "\n",
       "    .dataframe tbody tr th {\n",
       "        vertical-align: top;\n",
       "    }\n",
       "\n",
       "    .dataframe thead th {\n",
       "        text-align: right;\n",
       "    }\n",
       "</style>\n",
       "<table border=\"1\" class=\"dataframe\">\n",
       "  <thead>\n",
       "    <tr style=\"text-align: right;\">\n",
       "      <th></th>\n",
       "      <th>model</th>\n",
       "      <th>r2_score training</th>\n",
       "      <th>r2_score test</th>\n",
       "      <th>MSE training</th>\n",
       "      <th>MSE test</th>\n",
       "    </tr>\n",
       "  </thead>\n",
       "  <tbody>\n",
       "    <tr>\n",
       "      <th>1</th>\n",
       "      <td>linear_regression</td>\n",
       "      <td>0.190959</td>\n",
       "      <td>0.187017</td>\n",
       "      <td>1786.001678</td>\n",
       "      <td>1795.377070</td>\n",
       "    </tr>\n",
       "    <tr>\n",
       "      <th>2</th>\n",
       "      <td>random_forest_regressor</td>\n",
       "      <td>0.904586</td>\n",
       "      <td>0.903027</td>\n",
       "      <td>613.340928</td>\n",
       "      <td>620.069732</td>\n",
       "    </tr>\n",
       "    <tr>\n",
       "      <th>3</th>\n",
       "      <td>decision_tree_regresor</td>\n",
       "      <td>0.904498</td>\n",
       "      <td>0.902952</td>\n",
       "      <td>613.625243</td>\n",
       "      <td>620.308855</td>\n",
       "    </tr>\n",
       "  </tbody>\n",
       "</table>\n",
       "</div>"
      ],
      "text/plain": [
       "                     model  r2_score training  r2_score test  MSE training  \\\n",
       "1        linear_regression           0.190959       0.187017   1786.001678   \n",
       "2  random_forest_regressor           0.904586       0.903027    613.340928   \n",
       "3   decision_tree_regresor           0.904498       0.902952    613.625243   \n",
       "\n",
       "      MSE test  \n",
       "1  1795.377070  \n",
       "2   620.069732  \n",
       "3   620.308855  "
      ]
     },
     "execution_count": 21,
     "metadata": {},
     "output_type": "execute_result"
    }
   ],
   "source": [
    "#SSS\n",
    "from sklearn.linear_model import Perceptron\n",
    "models = {\n",
    "    'linear_regression': LinearRegression(),\n",
    "    'random_forest_regressor': RandomForestRegressor(max_depth=5, n_estimators=10),\n",
    "    'decision_tree_regresor': DecisionTreeRegressor(max_depth=5)\n",
    "}\n",
    "\n",
    "data_table1=train_test_various_models(models, train_features, test_features, train_labels, test_labels)\n",
    "data_table1.head()"
   ]
  },
  {
   "attachments": {},
   "cell_type": "markdown",
   "metadata": {},
   "source": [
    "### The best model's hyperparameters tuning"
   ]
  },
  {
   "attachments": {},
   "cell_type": "markdown",
   "metadata": {},
   "source": [
    "### Model Evaluation and Selection"
   ]
  },
  {
   "attachments": {},
   "cell_type": "markdown",
   "metadata": {},
   "source": [
    "### Decision tree regressor hyperparameters"
   ]
  },
  {
   "cell_type": "code",
   "execution_count": 22,
   "metadata": {},
   "outputs": [
    {
     "data": {
      "text/plain": [
       "{'max_depth': 17, 'min_samples_leaf': 50}"
      ]
     },
     "execution_count": 22,
     "metadata": {},
     "output_type": "execute_result"
    }
   ],
   "source": [
    "from sklearn.model_selection import GridSearchCV\n",
    "\n",
    "\n",
    "tree_reg = DecisionTreeRegressor()\n",
    "param_grid = [\n",
    "    {'max_depth': [3, 5, 7, 9, 12, 15, 17], 'min_samples_leaf': [10, 50, 100, 150, 250, 300]}\n",
    "]\n",
    "grid_search = GridSearchCV(tree_reg, param_grid, cv=5, scoring='neg_mean_squared_error')\n",
    "grid_search.fit(train_features, train_labels)\n",
    "grid_search.best_params_"
   ]
  },
  {
   "cell_type": "code",
   "execution_count": null,
   "metadata": {},
   "outputs": [],
   "source": [
    "forest_reg = RandomForestRegressor()\n",
    "param_grid = [\n",
    "    {'max_depth': [3, 5, 7, 9, 12, 15, 17], 'min_samples_leaf': [10, 50, 100, 150, 250, 300],\n",
    "     'n_estimators': [10, 20 ,50, 75, 100]}\n",
    "]\n",
    "grid_search = GridSearchCV(forest_reg, param_grid, cv=5, scoring='neg_mean_squared_error')\n",
    "grid_search.fit(train_features, train_labels)\n",
    "grid_search.best_params_"
   ]
  },
  {
   "cell_type": "code",
   "execution_count": null,
   "metadata": {},
   "outputs": [],
   "source": [
    "from sklearn.model_selection import GridSearchCV\n",
    "forest_reg = RandomForestRegressor()\n",
    "param_grid = [\n",
    "    {'max_depth': [17, 20], 'min_samples_leaf': [10],\n",
    "     'n_estimators': [100, 200, 300]}\n",
    "]\n",
    "grid_search = GridSearchCV(forest_reg, param_grid, cv=5, scoring='neg_mean_squared_error')\n",
    "grid_search.fit(train_features, train_labels)\n",
    "grid_search.best_params_"
   ]
  },
  {
   "cell_type": "code",
   "execution_count": 65,
   "metadata": {},
   "outputs": [
    {
     "data": {
      "text/html": [
       "<div>\n",
       "<style scoped>\n",
       "    .dataframe tbody tr th:only-of-type {\n",
       "        vertical-align: middle;\n",
       "    }\n",
       "\n",
       "    .dataframe tbody tr th {\n",
       "        vertical-align: top;\n",
       "    }\n",
       "\n",
       "    .dataframe thead th {\n",
       "        text-align: right;\n",
       "    }\n",
       "</style>\n",
       "<table border=\"1\" class=\"dataframe\">\n",
       "  <thead>\n",
       "    <tr style=\"text-align: right;\">\n",
       "      <th></th>\n",
       "      <th>model</th>\n",
       "      <th>r2_score training</th>\n",
       "      <th>r2_score test</th>\n",
       "      <th>MSE training</th>\n",
       "      <th>MSE test</th>\n",
       "    </tr>\n",
       "  </thead>\n",
       "  <tbody>\n",
       "    <tr>\n",
       "      <th>1</th>\n",
       "      <td>best_linear_regression</td>\n",
       "      <td>0.190959</td>\n",
       "      <td>0.187017</td>\n",
       "      <td>1786.001678</td>\n",
       "      <td>1795.377070</td>\n",
       "    </tr>\n",
       "    <tr>\n",
       "      <th>2</th>\n",
       "      <td>best random_forest_regressor</td>\n",
       "      <td>0.952466</td>\n",
       "      <td>0.939264</td>\n",
       "      <td>432.909220</td>\n",
       "      <td>490.723558</td>\n",
       "    </tr>\n",
       "    <tr>\n",
       "      <th>3</th>\n",
       "      <td>best decision_tree_regresor</td>\n",
       "      <td>0.936839</td>\n",
       "      <td>0.931342</td>\n",
       "      <td>499.025295</td>\n",
       "      <td>521.746118</td>\n",
       "    </tr>\n",
       "  </tbody>\n",
       "</table>\n",
       "</div>"
      ],
      "text/plain": [
       "                          model  r2_score training  r2_score test  \\\n",
       "1        best_linear_regression           0.190959       0.187017   \n",
       "2  best random_forest_regressor           0.952466       0.939264   \n",
       "3   best decision_tree_regresor           0.936839       0.931342   \n",
       "\n",
       "   MSE training     MSE test  \n",
       "1   1786.001678  1795.377070  \n",
       "2    432.909220   490.723558  \n",
       "3    499.025295   521.746118  "
      ]
     },
     "execution_count": 65,
     "metadata": {},
     "output_type": "execute_result"
    }
   ],
   "source": [
    "#SSS\n",
    "models = {\n",
    "    'best_linear_regression': LinearRegression(),\n",
    "    'best random_forest_regressor': RandomForestRegressor(max_depth=17, n_estimators=100, min_samples_leaf=10),\n",
    "    'best decision_tree_regresor': DecisionTreeRegressor(max_depth=15, min_samples_leaf=50),\n",
    "}\n",
    "#data_table=pd.concat([data_table,(train_test_various_models(models, train_features, test_features, train_labels, test_labels))])\n",
    "data_table2=train_test_various_models(models, train_features, test_features, train_labels, test_labels)\n",
    "data_table2.head(10)"
   ]
  },
  {
   "attachments": {},
   "cell_type": "markdown",
   "metadata": {},
   "source": [
    "### Plot learning curves - sporo izracunavanje"
   ]
  },
  {
   "cell_type": "code",
   "execution_count": null,
   "metadata": {},
   "outputs": [],
   "source": [
    "def plot_learning_curves(model, X, y):\n",
    "    X_train, X_val, y_train, y_val = train_test_split(X, y, test_size=0.2)\n",
    "    train_errors, val_errors = [], []\n",
    "    for m in range(1, len(X_train)):\n",
    "        model.fit(X_train[:m], y_train[:m])\n",
    "        y_train_predict = model.predict(X_train[:m])\n",
    "        y_val_predict = model.predict(X_val)\n",
    "        train_errors.append(mean_squared_error(y_train_predict, y_train[:m]))\n",
    "        val_errors.append(mean_squared_error(y_val_predict, y_val))\n",
    "    plt.plot(np.sqrt(train_errors), \"r-+\", linewidth=2, label=\"train\")\n",
    "    plt.plot(np.sqrt(val_errors), \"b-\", linewidth=3, label=\"val\")\n",
    "    plt.legend()\n",
    "    plt.xlabel(\"iteration\")\n",
    "    plt.ylabel(\"error\")\n",
    "\n",
    "\n",
    "plot_learning_curves(DecisionTreeRegressor(max_depth=15, min_samples_leaf=50),\n",
    "                     train_features, train_labels)\n",
    "plot_learning_curves(RandomForestRegressor(max_depth=17, n_estimators=50, \n",
    "                                                         min_samples_leaf=10),\n",
    "                     train_features, train_labels)"
   ]
  },
  {
   "attachments": {},
   "cell_type": "markdown",
   "metadata": {},
   "source": [
    "### Visualize Decision Tree Regressor predictions"
   ]
  },
  {
   "cell_type": "code",
   "execution_count": 26,
   "metadata": {},
   "outputs": [
    {
     "data": {
      "text/html": [
       "<div>\n",
       "<style scoped>\n",
       "    .dataframe tbody tr th:only-of-type {\n",
       "        vertical-align: middle;\n",
       "    }\n",
       "\n",
       "    .dataframe tbody tr th {\n",
       "        vertical-align: top;\n",
       "    }\n",
       "\n",
       "    .dataframe thead th {\n",
       "        text-align: right;\n",
       "    }\n",
       "</style>\n",
       "<table border=\"1\" class=\"dataframe\">\n",
       "  <thead>\n",
       "    <tr style=\"text-align: right;\">\n",
       "      <th></th>\n",
       "      <th>traffic_volume</th>\n",
       "      <th>traffic_volume_pred</th>\n",
       "    </tr>\n",
       "  </thead>\n",
       "  <tbody>\n",
       "    <tr>\n",
       "      <th>0</th>\n",
       "      <td>4083</td>\n",
       "      <td>4262.100000</td>\n",
       "    </tr>\n",
       "    <tr>\n",
       "      <th>1</th>\n",
       "      <td>1172</td>\n",
       "      <td>1685.913043</td>\n",
       "    </tr>\n",
       "    <tr>\n",
       "      <th>2</th>\n",
       "      <td>4548</td>\n",
       "      <td>4876.305556</td>\n",
       "    </tr>\n",
       "    <tr>\n",
       "      <th>3</th>\n",
       "      <td>3173</td>\n",
       "      <td>2640.288462</td>\n",
       "    </tr>\n",
       "    <tr>\n",
       "      <th>4</th>\n",
       "      <td>5575</td>\n",
       "      <td>5357.696429</td>\n",
       "    </tr>\n",
       "  </tbody>\n",
       "</table>\n",
       "</div>"
      ],
      "text/plain": [
       "   traffic_volume  traffic_volume_pred\n",
       "0            4083          4262.100000\n",
       "1            1172          1685.913043\n",
       "2            4548          4876.305556\n",
       "3            3173          2640.288462\n",
       "4            5575          5357.696429"
      ]
     },
     "execution_count": 26,
     "metadata": {},
     "output_type": "execute_result"
    }
   ],
   "source": [
    "###SSS\n",
    "traffic_volume_train_pred = models['best decision_tree_regresor'].predict(train_features)\n",
    "traffic_volume_test_pred = models['best decision_tree_regresor'].predict(test_features)\n",
    "df_train_pred =  pd.DataFrame(train_labels, columns={\"traffic_volume\"})\n",
    "\n",
    "df_train_pred['traffic_volume_pred'] = traffic_volume_train_pred\n",
    "df_test_pred =pd.DataFrame(test_labels, columns={\"traffic_volume\"})\n",
    "df_test_pred['traffic_volume_pred'] = traffic_volume_test_pred\n",
    "df_test_pred.head()\n",
    "\n"
   ]
  },
  {
   "attachments": {},
   "cell_type": "markdown",
   "metadata": {},
   "source": [
    "### Visualize Random forest Regressor predictions"
   ]
  },
  {
   "cell_type": "code",
   "execution_count": 27,
   "metadata": {},
   "outputs": [
    {
     "data": {
      "text/html": [
       "<div>\n",
       "<style scoped>\n",
       "    .dataframe tbody tr th:only-of-type {\n",
       "        vertical-align: middle;\n",
       "    }\n",
       "\n",
       "    .dataframe tbody tr th {\n",
       "        vertical-align: top;\n",
       "    }\n",
       "\n",
       "    .dataframe thead th {\n",
       "        text-align: right;\n",
       "    }\n",
       "</style>\n",
       "<table border=\"1\" class=\"dataframe\">\n",
       "  <thead>\n",
       "    <tr style=\"text-align: right;\">\n",
       "      <th></th>\n",
       "      <th>traffic_volume</th>\n",
       "      <th>traffic_volume_pred</th>\n",
       "    </tr>\n",
       "  </thead>\n",
       "  <tbody>\n",
       "    <tr>\n",
       "      <th>0</th>\n",
       "      <td>4083</td>\n",
       "      <td>4253.443030</td>\n",
       "    </tr>\n",
       "    <tr>\n",
       "      <th>1</th>\n",
       "      <td>1172</td>\n",
       "      <td>1625.291351</td>\n",
       "    </tr>\n",
       "    <tr>\n",
       "      <th>2</th>\n",
       "      <td>4548</td>\n",
       "      <td>4712.617079</td>\n",
       "    </tr>\n",
       "    <tr>\n",
       "      <th>3</th>\n",
       "      <td>3173</td>\n",
       "      <td>2450.633497</td>\n",
       "    </tr>\n",
       "    <tr>\n",
       "      <th>4</th>\n",
       "      <td>5575</td>\n",
       "      <td>5479.961578</td>\n",
       "    </tr>\n",
       "  </tbody>\n",
       "</table>\n",
       "</div>"
      ],
      "text/plain": [
       "   traffic_volume  traffic_volume_pred\n",
       "0            4083          4253.443030\n",
       "1            1172          1625.291351\n",
       "2            4548          4712.617079\n",
       "3            3173          2450.633497\n",
       "4            5575          5479.961578"
      ]
     },
     "execution_count": 27,
     "metadata": {},
     "output_type": "execute_result"
    }
   ],
   "source": [
    "#SSS\n",
    "traffic_volume_train_predrf = models['best random_forest_regressor'].predict(train_features)\n",
    "traffic_volume_test_predrf = models['best random_forest_regressor'].predict(test_features)\n",
    "df_train_predrf =  pd.DataFrame(train_labels, columns={\"traffic_volume\"})\n",
    "\n",
    "df_train_predrf['traffic_volume_pred'] = traffic_volume_train_predrf\n",
    "df_test_predrf =pd.DataFrame(test_labels, columns={\"traffic_volume\"})\n",
    "df_test_predrf['traffic_volume_pred'] = traffic_volume_test_predrf\n",
    "df_test_predrf.head()"
   ]
  },
  {
   "attachments": {},
   "cell_type": "markdown",
   "metadata": {},
   "source": [
    "### Plot predictions vs actual values"
   ]
  },
  {
   "cell_type": "code",
   "execution_count": 28,
   "metadata": {},
   "outputs": [
    {
     "data": {
      "image/png": "[encoded data removed]",
      "text/plain": [
       "<Figure size 640x480 with 1 Axes>"
      ]
     },
     "metadata": {},
     "output_type": "display_data"
    }
   ],
   "source": [
    "#SSS\n",
    "def plot_prediction(df, number_of_samples):\n",
    "    sample = df.sample(n=number_of_samples)\n",
    "    sample['difference'] = np.abs(df.traffic_volume - df.traffic_volume_pred)\n",
    "    x= [i+1 for i in range(number_of_samples)]\n",
    "    plt.scatter(x, sample.traffic_volume, color='blue', marker='*', label='traffic_volume')\n",
    "    plt.scatter(x, sample.traffic_volume_pred, color='red', marker='o',\n",
    "               label='_pred')\n",
    "    for x_i, y_i, diff in zip(x, sample.traffic_volume_pred, sample.difference):\n",
    "        plt.text(x_i+0.05, y_i, int(diff), color=\"green\", fontsize=12)\n",
    "    plt.scatter([], [], color='green', marker='$123$', label='difference')\n",
    "    plt.legend()\n",
    "    plt.xticks(x)\n",
    "    plt.grid()\n",
    "    plt.xlabel('sample number')\n",
    "    plt.ylabel('traffic')\n",
    "    plt.title(\"Comparison of actual and predicted values\")\n",
    "    plt.savefig('traffic_volume_vs_traffic_volume_pred.png')\n",
    "    \n",
    "    \n",
    "plot_prediction(df_test_pred, 25)\n"
   ]
  },
  {
   "attachments": {},
   "cell_type": "markdown",
   "metadata": {},
   "source": [
    "### Plotting predictions vs true values from RandomForestRegressor"
   ]
  },
  {
   "cell_type": "code",
   "execution_count": 29,
   "metadata": {},
   "outputs": [
    {
     "data": {
      "image/png": "[encoded data removed]",
      "text/plain": [
       "<Figure size 640x480 with 1 Axes>"
      ]
     },
     "metadata": {},
     "output_type": "display_data"
    }
   ],
   "source": [
    "#SSS\n",
    "plot_prediction(df_test_predrf, 25)"
   ]
  },
  {
   "attachments": {},
   "cell_type": "markdown",
   "metadata": {},
   "source": [
    "## Feature Selection"
   ]
  },
  {
   "cell_type": "code",
   "execution_count": 30,
   "metadata": {},
   "outputs": [
    {
     "data": {
      "text/plain": [
       "((33735, 16), (14459, 16), (33735,), (14459,))"
      ]
     },
     "execution_count": 30,
     "metadata": {},
     "output_type": "execute_result"
    }
   ],
   "source": [
    "from sklearn.model_selection import train_test_split\n",
    "from sklearn.linear_model import Lasso\n",
    "from sklearn.feature_selection import SelectFromModel\n",
    "from sklearn.preprocessing import StandardScaler\n",
    "\n",
    "df_withoutTrafficVolume = df.loc[:, pdf.columns != 'traffic_volume']\n",
    "X = df[df_withoutTrafficVolume.columns]\n",
    "\n",
    "# Separating the data into training and tests set\n",
    "X_train, X_test, y_train, y_test = train_test_split(\n",
    "    X,\n",
    "    df['traffic_volume'],\n",
    "    test_size=0.3,\n",
    "    random_state=0)\n",
    "\n",
    "X_train.shape, X_test.shape, y_train.shape, y_test.shape\n",
    "\n",
    "\n"
   ]
  },
  {
   "attachments": {},
   "cell_type": "markdown",
   "metadata": {},
   "source": [
    "### Feature selection using Variance Threshold"
   ]
  },
  {
   "cell_type": "code",
   "execution_count": 57,
   "metadata": {},
   "outputs": [
    {
     "name": "stdout",
     "output_type": "stream",
     "text": [
      "Bad features:\n",
      "weather_main_Drizzle\n",
      "weather_main_Fog\n",
      "weather_main_Rain\n",
      "weather_main_Snow\n",
      "weather_main_Thunderstorm\n",
      "holiday_False\n",
      "holiday_True\n",
      "\n",
      "Good features:\n",
      "temp\n",
      "clouds_all\n",
      "hour\n",
      "month\n",
      "year\n",
      "weather_main_Clear\n",
      "weather_main_Clouds\n",
      "weekday_WeekDay\n",
      "weekday_Weekend\n"
     ]
    }
   ],
   "source": [
    "from sklearn.feature_selection import VarianceThreshold\n",
    "\n",
    "var_thr = VarianceThreshold(threshold = 0.20) #Removing both constant and quasi-constant\n",
    "var_thr.fit(X_train)\n",
    "\n",
    "var_thr.get_support()\n",
    "\n",
    "concol = [column for column in X_train.columns \n",
    "          if column not in X_train.columns[var_thr.get_support()]]\n",
    "goodCol = [column for column in X_train.columns \n",
    "          if column in X_train.columns[var_thr.get_support()]]\n",
    "\n",
    "print(\"Bad features:\")\n",
    "for features in concol:\n",
    "    print(features)\n",
    "\n",
    "\n",
    "print()\n",
    "print(\"Good features:\")\n",
    "for features in goodCol:\n",
    "    print(features)\n",
    "\n"
   ]
  },
  {
   "cell_type": "code",
   "execution_count": 58,
   "metadata": {},
   "outputs": [],
   "source": [
    "Variance_train_X = X_train.drop(concol, axis=1)\n",
    "Variance_test_X = X_test.drop(concol, axis=1)"
   ]
  },
  {
   "cell_type": "code",
   "execution_count": 59,
   "metadata": {},
   "outputs": [
    {
     "data": {
      "text/plain": [
       "(Index(['temp', 'clouds_all', 'hour', 'month', 'year', 'weather_main_Clear',\n",
       "        'weather_main_Clouds', 'weekday_WeekDay', 'weekday_Weekend'],\n",
       "       dtype='object'),\n",
       " Index(['temp', 'clouds_all', 'hour', 'month', 'year', 'weather_main_Clear',\n",
       "        'weather_main_Clouds', 'weekday_WeekDay', 'weekday_Weekend'],\n",
       "       dtype='object'))"
      ]
     },
     "execution_count": 59,
     "metadata": {},
     "output_type": "execute_result"
    }
   ],
   "source": [
    "Variance_train_X.columns, Variance_test_X.columns"
   ]
  },
  {
   "cell_type": "code",
   "execution_count": 60,
   "metadata": {},
   "outputs": [
    {
     "data": {
      "text/plain": [
       "(Index(['temp', 'clouds_all', 'hour', 'month', 'year', 'weekday_WeekDay',\n",
       "        'weekday_Weekend'],\n",
       "       dtype='object'),\n",
       " Index(['temp', 'clouds_all', 'hour', 'month', 'year', 'weekday_WeekDay',\n",
       "        'weekday_Weekend'],\n",
       "       dtype='object'))"
      ]
     },
     "execution_count": 60,
     "metadata": {},
     "output_type": "execute_result"
    }
   ],
   "source": [
    "testList = ['weather_main_Clear', 'weather_main_Clouds']\n",
    "\n",
    "Variance_train_X = Variance_train_X.drop('weather_main_Clear', axis=1)\n",
    "Variance_train_X = Variance_train_X.drop('weather_main_Clouds', axis=1)\n",
    "\n",
    "Variance_test_X = Variance_test_X.drop('weather_main_Clear', axis=1)\n",
    "Variance_test_X = Variance_test_X.drop('weather_main_Clouds', axis=1)\n",
    "\n",
    "Variance_train_X.columns, Variance_test_X.columns"
   ]
  },
  {
   "cell_type": "code",
   "execution_count": 61,
   "metadata": {},
   "outputs": [
    {
     "data": {
      "text/html": [
       "<div>\n",
       "<style scoped>\n",
       "    .dataframe tbody tr th:only-of-type {\n",
       "        vertical-align: middle;\n",
       "    }\n",
       "\n",
       "    .dataframe tbody tr th {\n",
       "        vertical-align: top;\n",
       "    }\n",
       "\n",
       "    .dataframe thead th {\n",
       "        text-align: right;\n",
       "    }\n",
       "</style>\n",
       "<table border=\"1\" class=\"dataframe\">\n",
       "  <thead>\n",
       "    <tr style=\"text-align: right;\">\n",
       "      <th></th>\n",
       "      <th>model</th>\n",
       "      <th>r2_score training</th>\n",
       "      <th>r2_score test</th>\n",
       "      <th>MSE training</th>\n",
       "      <th>MSE test</th>\n",
       "    </tr>\n",
       "  </thead>\n",
       "  <tbody>\n",
       "    <tr>\n",
       "      <th>1</th>\n",
       "      <td>best_linear_regression</td>\n",
       "      <td>0.184983</td>\n",
       "      <td>0.179718</td>\n",
       "      <td>1795.977824</td>\n",
       "      <td>1793.789239</td>\n",
       "    </tr>\n",
       "    <tr>\n",
       "      <th>2</th>\n",
       "      <td>best random_forest_regressor</td>\n",
       "      <td>0.951526</td>\n",
       "      <td>0.938327</td>\n",
       "      <td>437.996644</td>\n",
       "      <td>491.856540</td>\n",
       "    </tr>\n",
       "    <tr>\n",
       "      <th>3</th>\n",
       "      <td>best decision_tree_regresor</td>\n",
       "      <td>0.935986</td>\n",
       "      <td>0.930693</td>\n",
       "      <td>503.331693</td>\n",
       "      <td>521.408278</td>\n",
       "    </tr>\n",
       "  </tbody>\n",
       "</table>\n",
       "</div>"
      ],
      "text/plain": [
       "                          model  r2_score training  r2_score test  \\\n",
       "1        best_linear_regression           0.184983       0.179718   \n",
       "2  best random_forest_regressor           0.951526       0.938327   \n",
       "3   best decision_tree_regresor           0.935986       0.930693   \n",
       "\n",
       "   MSE training     MSE test  \n",
       "1   1795.977824  1793.789239  \n",
       "2    437.996644   491.856540  \n",
       "3    503.331693   521.408278  "
      ]
     },
     "execution_count": 61,
     "metadata": {},
     "output_type": "execute_result"
    }
   ],
   "source": [
    "models = {\n",
    "    'best_linear_regression': LinearRegression(),\n",
    "    'best random_forest_regressor': RandomForestRegressor(max_depth=17, n_estimators=100, min_samples_leaf=10),\n",
    "    'best decision_tree_regresor': DecisionTreeRegressor(max_depth=15, min_samples_leaf=50),\n",
    "}\n",
    "#data_table=pd.concat([data_table,(train_test_various_models(models, train_features, test_features, train_labels, test_labels))])\n",
    "data_table2 = train_test_various_models(\n",
    "    models, Variance_train_X, Variance_test_X, y_train, y_test)\n",
    "data_table2.head(10)\n"
   ]
  },
  {
   "cell_type": "code",
   "execution_count": 62,
   "metadata": {},
   "outputs": [
    {
     "data": {
      "text/html": [
       "<div>\n",
       "<style scoped>\n",
       "    .dataframe tbody tr th:only-of-type {\n",
       "        vertical-align: middle;\n",
       "    }\n",
       "\n",
       "    .dataframe tbody tr th {\n",
       "        vertical-align: top;\n",
       "    }\n",
       "\n",
       "    .dataframe thead th {\n",
       "        text-align: right;\n",
       "    }\n",
       "</style>\n",
       "<table border=\"1\" class=\"dataframe\">\n",
       "  <thead>\n",
       "    <tr style=\"text-align: right;\">\n",
       "      <th></th>\n",
       "      <th>traffic_volume</th>\n",
       "      <th>traffic_volume_pred</th>\n",
       "    </tr>\n",
       "  </thead>\n",
       "  <tbody>\n",
       "    <tr>\n",
       "      <th>23483</th>\n",
       "      <td>2714</td>\n",
       "      <td>2808.516667</td>\n",
       "    </tr>\n",
       "    <tr>\n",
       "      <th>29504</th>\n",
       "      <td>732</td>\n",
       "      <td>596.923077</td>\n",
       "    </tr>\n",
       "    <tr>\n",
       "      <th>2675</th>\n",
       "      <td>6256</td>\n",
       "      <td>5839.636364</td>\n",
       "    </tr>\n",
       "    <tr>\n",
       "      <th>3311</th>\n",
       "      <td>2752</td>\n",
       "      <td>2501.115385</td>\n",
       "    </tr>\n",
       "    <tr>\n",
       "      <th>44181</th>\n",
       "      <td>351</td>\n",
       "      <td>372.222222</td>\n",
       "    </tr>\n",
       "  </tbody>\n",
       "</table>\n",
       "</div>"
      ],
      "text/plain": [
       "       traffic_volume  traffic_volume_pred\n",
       "23483            2714          2808.516667\n",
       "29504             732           596.923077\n",
       "2675             6256          5839.636364\n",
       "3311             2752          2501.115385\n",
       "44181             351           372.222222"
      ]
     },
     "execution_count": 62,
     "metadata": {},
     "output_type": "execute_result"
    }
   ],
   "source": [
    "traffic_volume_train_pred = models['best decision_tree_regresor'].predict(\n",
    "    Variance_train_X)\n",
    "traffic_volume_test_pred = models['best decision_tree_regresor'].predict(\n",
    "    Variance_test_X)\n",
    "df_train_pred = pd.DataFrame(y_train, columns={\"traffic_volume\"})\n",
    "\n",
    "df_train_pred['traffic_volume_pred'] = traffic_volume_train_pred\n",
    "df_test_pred = pd.DataFrame(y_test, columns={\"traffic_volume\"})\n",
    "df_test_pred['traffic_volume_pred'] = traffic_volume_test_pred\n",
    "df_test_pred.head()\n"
   ]
  },
  {
   "attachments": {},
   "cell_type": "markdown",
   "metadata": {},
   "source": [
    "### Feature Selection Using Regularisation"
   ]
  },
  {
   "cell_type": "code",
   "execution_count": null,
   "metadata": {},
   "outputs": [],
   "source": [
    "# Scaling the data, as linear models benefits from feature scaling\n",
    "scaler = StandardScaler()\n",
    "scaler.fit(X_train.fillna(0))\n",
    "\n",
    "# Selecting features using Lasso regularisation using SelectFromModel\n",
    "sel_ = SelectFromModel(LogisticRegression(C=1, penalty='l2', solver='liblinear'))\n",
    "sel_.fit(scaler.transform(X_train.fillna(0)), y_train)"
   ]
  },
  {
   "cell_type": "code",
   "execution_count": null,
   "metadata": {},
   "outputs": [],
   "source": [
    "print(sel_.get_support())\n",
    "\n",
    "selected_feat = X_train.columns[(sel_.get_support())]\n",
    "print('total features: {}'.format((X_train.shape[1])))\n",
    "print('selected features: {}'.format(len(selected_feat)))\n",
    "print('features with coefficients shrank to zero: {}'.format(\n",
    "      np.sum(sel_.estimator_.coef_ == 0)))\n",
    "\n",
    "X_train_selected = sel_.transform(X_train.fillna(0))\n",
    "X_test_selected = sel_.transform(X_test.fillna(0))\n",
    "\n",
    "print(selected_feat, X_train_selected.shape, X_test_selected.shape)\n",
    "\n",
    "X_train.head()\n"
   ]
  },
  {
   "cell_type": "code",
   "execution_count": null,
   "metadata": {},
   "outputs": [],
   "source": [
    "models = {\n",
    "    'best_linear_regression': LinearRegression(),\n",
    "    'best random_forest_regressor': RandomForestRegressor(max_depth=17, n_estimators=100, min_samples_leaf=10),\n",
    "    'best decision_tree_regresor': DecisionTreeRegressor(max_depth=15, min_samples_leaf=50),\n",
    "}\n",
    "#data_table=pd.concat([data_table,(train_test_various_models(models, train_features, test_features, train_labels, test_labels))])\n",
    "data_table2=train_test_various_models(models, X_train_selected, X_test_selected, y_train, y_test)\n",
    "data_table2.head(10)"
   ]
  },
  {
   "cell_type": "code",
   "execution_count": null,
   "metadata": {},
   "outputs": [],
   "source": [
    "traffic_volume_train_pred = models['best decision_tree_regresor'].predict(\n",
    "    X_train_selected)\n",
    "traffic_volume_test_pred = models['best decision_tree_regresor'].predict(\n",
    "    X_test_selected)\n",
    "df_train_pred = pd.DataFrame(y_train, columns={\"traffic_volume\"})\n",
    "\n",
    "df_train_pred['traffic_volume_pred'] = traffic_volume_train_pred\n",
    "df_test_pred = pd.DataFrame(y_test, columns={\"traffic_volume\"})\n",
    "df_test_pred['traffic_volume_pred'] = traffic_volume_test_pred\n",
    "df_test_pred.head()\n"
   ]
  },
  {
   "cell_type": "code",
   "execution_count": null,
   "metadata": {},
   "outputs": [],
   "source": [
    "traffic_volume_train_predrf = models['best random_forest_regressor'].predict(\n",
    "    X_train_selected)\n",
    "traffic_volume_test_predrf = models['best random_forest_regressor'].predict(\n",
    "    X_test_selected)\n",
    "df_train_predrf = pd.DataFrame(y_train, columns={\"traffic_volume\"})\n",
    "\n",
    "df_train_predrf['traffic_volume_pred'] = traffic_volume_train_predrf\n",
    "df_test_predrf =pd.DataFrame(y_test, columns={\"traffic_volume\"})\n",
    "df_test_predrf['traffic_volume_pred'] = traffic_volume_test_predrf\n",
    "df_test_predrf.head()"
   ]
  },
  {
   "attachments": {},
   "cell_type": "markdown",
   "metadata": {},
   "source": [
    "### RFE Recursive Feature Elimination"
   ]
  },
  {
   "cell_type": "code",
   "execution_count": null,
   "metadata": {},
   "outputs": [],
   "source": [
    "pdf.head()"
   ]
  },
  {
   "cell_type": "code",
   "execution_count": null,
   "metadata": {},
   "outputs": [],
   "source": [
    "#SSS\n",
    "from sklearn.feature_selection import RFE\n",
    "def featuresRankingRFE(models, train_features, train_labels):\n",
    "    column_headers = list(pdf.columns.values)\n",
    "    column_headers.remove(\"traffic_volume\")\n",
    "    featuresImportance =  pd.DataFrame(column_headers)\n",
    "    for model_name, model in models.items():\n",
    "        rfe = RFE(estimator=model, n_features_to_select=5, step=1)\n",
    "        rfe.fit(train_features, train_labels)\n",
    "        featuresImportance[model_name] = rfe.ranking_\n",
    "    print(featuresImportance)\n",
    "    \n",
    "featuresRankingRFE(models, train_features, train_labels)"
   ]
  },
  {
   "attachments": {},
   "cell_type": "markdown",
   "metadata": {},
   "source": [
    "### DON'T TOUCH RFE with real data"
   ]
  },
  {
   "cell_type": "code",
   "execution_count": null,
   "metadata": {},
   "outputs": [],
   "source": [
    "from sklearn.feature_selection import RFE\n",
    "def featuresRankingRFE(models, train_features, train_labels):\n",
    "    column_headers = list(pdf.columns.values)\n",
    "    column_headers.remove(\"traffic_volume\")\n",
    "    featuresImportance =  pd.DataFrame(column_headers)\n",
    "    for model_name, model in models.items():\n",
    "        rfe = RFE(estimator=model, n_features_to_select=5, step=1)\n",
    "        rfe.fit(train_features, train_labels)\n",
    "        featuresImportance[model_name] = rfe.ranking_\n",
    "    print(featuresImportance)\n",
    "    \n",
    "featuresRankingRFE(models, train_features, train_labels)\n"
   ]
  },
  {
   "cell_type": "code",
   "execution_count": null,
   "metadata": {},
   "outputs": [],
   "source": [
    "#SSS\n",
    "from sklearn.model_selection import train_test_split\n",
    "def dropAndSplitFeatures(featuresToDrop, data):\n",
    "    features= pdf.drop(columns=featuresToDrop, axis = 1)\n",
    "    feature_list = list(features.columns)\n",
    "    \n",
    "\n",
    "    # Convert to numpy array\n",
    "    features = np.array(features)\n",
    "    train_features, test_features, train_labels, test_labels = train_test_split(features, labels, test_size = 0.20, random_state = 42)\n",
    "    return train_features, test_features, train_labels, test_labels, feature_list"
   ]
  },
  {
   "cell_type": "code",
   "execution_count": null,
   "metadata": {},
   "outputs": [],
   "source": [
    "df.head()\n"
   ]
  },
  {
   "cell_type": "code",
   "execution_count": null,
   "metadata": {},
   "outputs": [],
   "source": [
    "#SSS\n",
    "cols = [c for c in df.columns if c.lower()[:12] != 'weather_main']\n",
    "\n",
    "pdf=df[cols]\n",
    "cols = [c for c in pdf.columns if c.lower()[:7] != 'holiday']\n",
    "\n",
    "pdf=pdf[cols]\n",
    "pdf.head()"
   ]
  },
  {
   "cell_type": "code",
   "execution_count": null,
   "metadata": {},
   "outputs": [],
   "source": [
    "#SSS\n",
    "pdf=pdf.copy()\n",
    "train_features, test_features, train_labels, test_labels, feature_list = dropAndSplitFeatures(['traffic_volume'], pdf)\n",
    "#train_test_various_models(models, train_features, test_features, train_labels, test_labels)\n",
    "\n",
    "models = {\n",
    "    'best_linear_regression_less_features': LinearRegression(),\n",
    "    'best random_forest_regressor_less_features': RandomForestRegressor(max_depth=17, n_estimators=100, min_samples_leaf=10),\n",
    "    'best decision_tree_regresor_less_features': DecisionTreeRegressor(max_depth=15, min_samples_leaf=50),\n",
    "}\n",
    "#data_table=pd.concat([data_table,(train_test_various_models(models, train_features, test_features, train_labels, test_labels))])\n",
    "data_table3=train_test_various_models(models, train_features, test_features, train_labels, test_labels)\n",
    "data_table3.head()"
   ]
  },
  {
   "cell_type": "code",
   "execution_count": null,
   "metadata": {},
   "outputs": [],
   "source": [
    "#SSS\n",
    "data_table=pd.concat([data_table1,data_table2])\n",
    "data_table=pd.concat([data_table,data_table3])\n",
    "data_table.head(9)"
   ]
  },
  {
   "attachments": {},
   "cell_type": "markdown",
   "metadata": {},
   "source": [
    "### o=pokusaj nad osnovnim podacima"
   ]
  },
  {
   "cell_type": "code",
   "execution_count": null,
   "metadata": {},
   "outputs": [],
   "source": [
    "pdf=df.copy()\n",
    "train_features, test_features, train_labels, test_labels, feature_list = dropAndSplitFeatures(['traffic_volume', 'snow_1h', 'rain_1h', 'holiday', 'clouds_all' ], pdf)\n",
    "#train_test_various_models(models, train_features, test_features, train_labels, test_labels)\n",
    "\n",
    "models = {\n",
    "    'best_linear_regression_less_features': LinearRegression(),\n",
    "    'best random_forest_regressor_less_features': RandomForestRegressor(max_depth=17, n_estimators=100, min_samples_leaf=10),\n",
    "    'best decision_tree_regresor_less_features': DecisionTreeRegressor(max_depth=15, min_samples_leaf=50),\n",
    "}\n",
    "#data_table=pd.concat([data_table,(train_test_various_models(models, train_features, test_features, train_labels, test_labels))])\n",
    "data_table3=train_test_various_models(models, train_features, test_features, train_labels, test_labels)\n",
    "data_table3.head()\n"
   ]
  },
  {
   "cell_type": "code",
   "execution_count": null,
   "metadata": {},
   "outputs": [],
   "source": [
    "print(feature_list)"
   ]
  },
  {
   "cell_type": "code",
   "execution_count": null,
   "metadata": {},
   "outputs": [],
   "source": [
    "pdf.info()"
   ]
  },
  {
   "attachments": {},
   "cell_type": "markdown",
   "metadata": {},
   "source": [
    "## Trying to implement bio-inspired algorithm for feature selection\n"
   ]
  },
  {
   "cell_type": "code",
   "execution_count": null,
   "metadata": {},
   "outputs": [],
   "source": [
    "# install the DEAP library\n",
    "%pip install deap\n",
    "\n",
    "# import necessary libraries\n",
    "import pandas as pd\n",
    "import numpy as np\n",
    "from deap import creator, base, tools, algorithms"
   ]
  },
  {
   "cell_type": "code",
   "execution_count": null,
   "metadata": {},
   "outputs": [],
   "source": [
    "df = data.copy()\n",
    "df.head()"
   ]
  },
  {
   "attachments": {},
   "cell_type": "markdown",
   "metadata": {},
   "source": [
    "### pokusaj"
   ]
  },
  {
   "cell_type": "code",
   "execution_count": null,
   "metadata": {},
   "outputs": [],
   "source": [
    "\n",
    "\n",
    "# load the dataset\n",
    "df = pdf.copy()\n",
    "\n",
    "# split the data into features and target\n",
    "y = df[\"traffic_volume\"]\n",
    "X = df.drop(columns=[\"traffic_volume\"])\n",
    "\n",
    "\n",
    "model = LinearRegression()\n",
    "# define the genetic algorithm for feature selection\n",
    "\n",
    "# define the genetic algorithm for feature selection\n",
    "def genetic_algorithm(X, y):\n",
    "    # create the fitness function\n",
    "    def evaluate(individual):\n",
    "        # get the selected features\n",
    "        selected_features = [i for i, x in enumerate(individual) if x == 1]\n",
    "        X_selected = X.iloc[:, selected_features]\n",
    "        \n",
    "        # fit a linear regression model and return the mean cross-validated score\n",
    " \n",
    "        scores = cross_val_score(model, X_selected, y, cv=5)\n",
    "        return np.mean(scores),\n",
    "    \n",
    "    # create the genetic algorithm\n",
    "    creator.create(\"FitnessMax\", base.Fitness, weights=(1.0,))\n",
    "    creator.create(\"Individual\", list, fitness=creator.FitnessMax)\n",
    "    toolbox = base.Toolbox()\n",
    "    toolbox.register(\"attr_bool\", np.random.randint, 0, 1)\n",
    "    toolbox.register(\"individual\", tools.initRepeat, creator.Individual, toolbox.attr_bool, len(X.columns))\n",
    "    toolbox.register(\"population\", tools.initRepeat, list, toolbox.individual)\n",
    "    toolbox.register(\"evaluate\", evaluate)\n",
    "    toolbox.register(\"mate\", tools.cxTwoPoint)\n",
    "    toolbox.register(\"mutate\", tools.mutFlipBit, indpb=0.05)\n",
    "    toolbox.register(\"select\", tools.selTournament, tournsize=3)\n",
    "    \n",
    "    # run the genetic algorithm\n",
    "    population = toolbox.population(n=50)\n",
    "    hof = tools.HallOfFame(1)\n",
    "    stats = tools.Statistics(lambda ind: ind.fitness.values)\n",
    "    stats.register(\"mean\", np.mean)\n",
    "    stats.register(\"std\", np.std)\n",
    "    stats.register(\"min\", np.min)\n",
    "    stats.register(\"max\", np.max)\n",
    "    population, log = algorithms.eaSimple(population, toolbox, cxpb=0.5, mutpb=0.2, ngen=10, stats=stats, halloffame=hof, verbose=True)\n",
    "    \n",
    "    # return the selected features\n",
    "    selected_features = [i for i, x in enumerate(hof[0]) if x == 1]\n",
    "    return selected_features\n",
    "\n",
    "# run the genetic algorithm\n",
    "selected_features = genetic_algorithm(X, y)\n",
    "#print(selected_features)"
   ]
  },
  {
   "cell_type": "code",
   "execution_count": null,
   "metadata": {},
   "outputs": [],
   "source": [
    "import numpy as np\n",
    "import pandas as pd\n",
    "import seaborn as sns\n",
    "import matplotlib.pyplot as plt\n",
    "from random import randint\n",
    "%matplotlib inline \n",
    "import warnings\n",
    "warnings.filterwarnings(\"ignore\")\n",
    "\n",
    "from sklearn.model_selection import train_test_split\n",
    "def split(df,label):\n",
    "    X_tr, X_te, Y_tr, Y_te = train_test_split(df, label, test_size=0.25, random_state=42)\n",
    "    return X_tr, X_te, Y_tr, Y_te\n",
    "\n",
    "from sklearn import svm\n",
    "from sklearn.ensemble import RandomForestRegressor\n",
    "from sklearn.tree import DecisionTreeRegressor\n",
    "from sklearn import metrics\n",
    "from sklearn.metrics import accuracy_score\n",
    "from sklearn.model_selection import KFold, cross_val_score\n",
    "\n",
    "regressors = ['LinearSVM', 'RandomForest',  'DecisionTree']\n",
    "\n",
    "models = [svm.SVC(kernel='linear'),\n",
    "         RandomForestRegressor(max_depth=17, n_estimators=100, min_samples_leaf=10),\n",
    "           DecisionTreeRegressor(max_depth=15, min_samples_leaf=50)]\n",
    "\n",
    "\n",
    "def acc_score(df,label):\n",
    "    Score = pd.DataFrame({\"Regressor\": regressors})\n",
    "    j = 0\n",
    "    acc = []\n",
    "    X_train,X_test,Y_train,Y_test = split(df,label)\n",
    "    for i in models:\n",
    "        model = i\n",
    "        model.fit(X_train,Y_train)\n",
    "        predictions = model.predict(X_test)\n",
    "        acc.append(accuracy_score(Y_test,predictions))\n",
    "        j = j+1     \n",
    "    Score[\"Accuracy\"] = acc\n",
    "    Score.sort_values(by=\"Accuracy\", ascending=False,inplace = True)\n",
    "    Score.reset_index(drop=True, inplace=True)\n",
    "    return Score\n",
    "\n",
    "def plot(score,x,y,c = \"b\"):\n",
    "    gen = [1,2,3,4,5]\n",
    "    plt.figure(figsize=(6,4))\n",
    "    ax = sns.pointplot(x=gen, y=score,color = c )\n",
    "    ax.set(xlabel=\"Generation\", ylabel=\"Accuracy\")\n",
    "    ax.set(ylim=(x,y))\n",
    "def initilization_of_population(size,n_feat):\n",
    "    population = []\n",
    "    for i in range(size):\n",
    "        chromosome = np.ones(n_feat,dtype=np.bool)     \n",
    "        chromosome[:int(0.3*n_feat)]=False             \n",
    "        np.random.shuffle(chromosome)\n",
    "        population.append(chromosome)\n",
    "    return population\n",
    "\n",
    "\n",
    "def fitness_score(population):\n",
    "    scores = []\n",
    "    for chromosome in population:\n",
    "        logmodel.fit(X_train.iloc[:,chromosome],Y_train)         \n",
    "        predictions = logmodel.predict(X_test.iloc[:,chromosome])\n",
    "        scores.append(accuracy_score(Y_test,predictions))\n",
    "    scores, population = np.array(scores), np.array(population) \n",
    "    inds = np.argsort(scores)                                    \n",
    "    return list(scores[inds][::-1]), list(population[inds,:][::-1]) \n",
    "\n",
    "\n",
    "def selection(pop_after_fit,n_parents):\n",
    "    population_nextgen = []\n",
    "    for i in range(n_parents):\n",
    "        population_nextgen.append(pop_after_fit[i])\n",
    "    return population_nextgen\n",
    "\n",
    "\n",
    "def crossover(pop_after_sel):\n",
    "    pop_nextgen = pop_after_sel\n",
    "    for i in range(0,len(pop_after_sel),2):\n",
    "        new_par = []\n",
    "        child_1 , child_2 = pop_nextgen[i] , pop_nextgen[i+1]\n",
    "        new_par = np.concatenate((child_1[:len(child_1)//2],child_2[len(child_1)//2:]))\n",
    "        pop_nextgen.append(new_par)\n",
    "    return pop_nextgen\n",
    "\n",
    "\n",
    "def mutation(pop_after_cross,mutation_rate,n_feat):   \n",
    "    mutation_range = int(mutation_rate*n_feat)\n",
    "    pop_next_gen = []\n",
    "    for n in range(0,len(pop_after_cross)):\n",
    "        chromo = pop_after_cross[n]\n",
    "        rand_posi = [] \n",
    "        for i in range(0,mutation_range):\n",
    "            pos = randint(0,n_feat-1)\n",
    "            rand_posi.append(pos)\n",
    "        for j in rand_posi:\n",
    "            chromo[j] = not chromo[j]  \n",
    "        pop_next_gen.append(chromo)\n",
    "    return pop_next_gen\n",
    "\n",
    "def generations(df,label,size,n_feat,n_parents,mutation_rate,n_gen,X_train,\n",
    "                                   X_test, Y_train, Y_test):\n",
    "    best_chromo= []\n",
    "    best_score= []\n",
    "    population_nextgen=initilization_of_population(size,n_feat)\n",
    "    for i in range(n_gen):\n",
    "        scores, pop_after_fit = fitness_score(population_nextgen)\n",
    "        print('Best score in generation',i+1,':',scores[:1])  #2\n",
    "        pop_after_sel = selection(pop_after_fit,n_parents)\n",
    "        pop_after_cross = crossover(pop_after_sel)\n",
    "        population_nextgen = mutation(pop_after_cross,mutation_rate,n_feat)\n",
    "        best_chromo.append(pop_after_fit[0])\n",
    "        best_score.append(scores[0])\n",
    "    return best_chromo,best_score"
   ]
  },
  {
   "cell_type": "code",
   "execution_count": null,
   "metadata": {},
   "outputs": [],
   "source": [
    "data_bc =pdf.copy()\n",
    "label_bc = data_bc[\"traffic_volume\"]\n",
    "#label_bc = np.where(label_bc == 'M',1,0)\n",
    "#data_bc.drop([\"id\",\"diagnosis\",\"Unnamed: 32\"],axis = 1,inplace = True)\n",
    "\n",
    "print(\"Breast Cancer dataset:\\n\",data_bc.shape[0],\"Records\\n\",data_bc.shape[1],\"Features\")"
   ]
  },
  {
   "cell_type": "code",
   "execution_count": null,
   "metadata": {},
   "outputs": [],
   "source": [
    "score1 = acc_score(data_bc,label_bc)\n",
    "score1"
   ]
  },
  {
   "cell_type": "code",
   "execution_count": null,
   "metadata": {},
   "outputs": [],
   "source": [
    "import random\n",
    "import math\n",
    "import pandas as pd\n",
    "from sklearn.model_selection import LeaveOneOut\n",
    "from sklearn.model_selection import cross_val_score\n",
    "from sklearn import svm\n",
    "import numpy as np\n",
    "\n",
    "\n",
    "class FireflyAlgorithm():\n",
    "\n",
    "    def __init__(self, function):\n",
    "        self.D = 121  # dimension of the problem (Gene number)\n",
    "        self.NP = 100  # population size (Firefly number)\n",
    "        self.nFES = 1  # number of function evaluations (repeate number)\n",
    "        self.alpha = 1  # alpha parameter,(randomization parameter)\n",
    "        self.betamin = 0.5  # beta parameter\n",
    "        self.gamma = 1  # gamma parameter (light intensity coefficency)\n",
    "        # sort of fireflies according to fitness value\n",
    "        self.Index = [0] * self.NP\n",
    "        self.Fireflies = [[np.random.rand() for i in range(self.D)] for j in range(self.NP)]  # firefly agents,\n",
    "        self.Fireflies_tmp = [[np.random.rand() for i in range(self.D)] for j in range(\n",
    "            self.NP)]  # intermediate pop\n",
    "        self.Fitness = [0.0] * self.NP  # fitness values (Accuracy)\n",
    "        self.I = [0.0] * self.NP  # light intensity\n",
    "        self.nbest = [0.0] * self.NP  # the best solution found so far\n",
    "        self.LB = 0  # lower bound\n",
    "        self.UB = 1  # upper bound\n",
    "        self.fbest = None  # the best\n",
    "        self.evaluations = 0\n",
    "        self.Fun = function\n",
    "\n",
    "    def alpha_new(self, a):\n",
    "        delta = 1.0 - math.pow((math.pow(10.0, -4.0) / 0.9), 1.0 / float(a))\n",
    "        return (1 - delta) * self.alpha\n",
    "\n",
    "    def sort_ffa(self):  # implementation of bubble sort\n",
    "\n",
    "        for i in range(self.NP):\n",
    "            self.Index[i] = i\n",
    "\n",
    "        for i in range(0, (self.NP - 1)):\n",
    "            j = i + 1\n",
    "            for j in range(j, self.NP):\n",
    "                if (self.I[i] > self.I[j]):\n",
    "                    z = self.I[i]  # exchange attractiveness\n",
    "                    self.I[i] = self.I[j]\n",
    "                    self.I[j] = z\n",
    "                    z = self.Fitness[i]  # exchange fitness\n",
    "                    self.Fitness[i] = self.Fitness[j]\n",
    "                    self.Fitness[j] = z\n",
    "                    z = self.Index[i]  # exchange indexes\n",
    "                    self.Index[i] = self.Index[j]\n",
    "                    self.Index[j] = z\n",
    "\n",
    "\n",
    "    def replace_ffa(self):  # replace the old population according to the new Index values\n",
    "        # copy original population to a temporary area\n",
    "        for i in range(self.NP):\n",
    "            for j in range(self.D):\n",
    "                self.Fireflies_tmp[i][j] = self.Fireflies[i][j]\n",
    "\n",
    "        # generational selection in the sense of an EA\n",
    "        for i in range(self.NP):\n",
    "            for j in range(self.D):\n",
    "                self.Fireflies[i][j] = self.Fireflies_tmp[self.Index[i]][j]\n",
    "\n",
    "    def FindLimits(self, k):\n",
    "        for i in range(self.D):\n",
    "            if self.Fireflies[k][i] < self.LB:\n",
    "                self.Fireflies[k][i] = self.LB\n",
    "            if self.Fireflies[k][i] > self.UB:\n",
    "                self.Fireflies[k][i] = self.UB\n",
    "\n",
    "    def move_ffa(self):\n",
    "        for i in range(self.NP):\n",
    "            scale = abs(self.UB - self.LB)\n",
    "            for j in range(self.NP):\n",
    "                r = 0.0\n",
    "                for k in range(self.D):\n",
    "                    r += (self.Fireflies[i][k] - self.Fireflies[j][k]) * \\\n",
    "                        (self.Fireflies[i][k] - self.Fireflies[j][k])\n",
    "                r = math.sqrt(r)\n",
    "                if self.I[i] > self.I[j]:  # brighter and more attractive\n",
    "                    beta0 = 1.0\n",
    "                    beta = (beta0 - self.betamin) * math.exp(-self.gamma * math.pow(r, 2.0)) + self.betamin\n",
    "                    for k in range(self.D):\n",
    "                        r = random.uniform(0, 1)\n",
    "                        tmpf = self.alpha * (r - 0.5) * scale\n",
    "                        self.Fireflies[i][k] = self.Fireflies[i][\n",
    "                            k] * (1.0 - beta) + self.Fireflies_tmp[j][k] * beta + tmpf\n",
    "            self.FindLimits(i)\n",
    "\n",
    "    def Run(self):\n",
    "        while self.evaluations < self.nFES:\n",
    "\n",
    "            # optional reducing of alpha\n",
    "            #self.alpha = self.alpha_new(self.nFES/self.NP)\n",
    "            self.evaluations = self.evaluations + 1\n",
    "            # evaluate new solutions\n",
    "            for i in range(self.NP):\n",
    "                self.Fitness[i] = self.Fun(self.Fireflies[i])\n",
    "\n",
    "                self.I[i] = self.Fitness[i]\n",
    "\n",
    "\n",
    "            # ranking fireflies by their light intensit\n",
    "            self.sort_ffa()\n",
    "            # replace old population\n",
    "            self.replace_ffa()\n",
    "            # move all fireflies to the better locations\n",
    "            self.move_ffa()\n",
    "\n",
    "        bestFirefly = self.Fireflies[self.NP - 1]\n",
    "\n",
    "        return bestFirefly\n",
    "\n",
    "#File which applied\n",
    "file_ = \"File Name: \"\n",
    "\n",
    "df = pdf.copy()\n",
    "\n",
    "y = df['traffic_volume'].values\n",
    "X = df.drop('traffic_volume', axis=1).values\n",
    "\n",
    "\n",
    "def evaluation(feature_possibilities):\n",
    "        feature_possibilities = np.round(feature_possibilities)\n",
    "\n",
    "        feature_possibilities = feature_possibilities > np.float32(0.5)\n",
    "\n",
    "        selectedX = X[:, feature_possibilities]\n",
    "\n",
    "        s = svm.SVC(kernel=\"poly\", C=1)\n",
    "\n",
    "        loocv = LeaveOneOut()\n",
    "        evaluation = cross_val_score(s, selectedX, y,  cv=loocv)\n",
    "\n",
    "        return evaluation.mean()\n",
    "\n",
    "Algorithm = FireflyAlgorithm(evaluation)\n",
    "Best = Algorithm.Run()\n",
    "\n",
    "\n",
    "a = np.round(Best)\n",
    "\n",
    "feature_take_or_not = a > np.float32(0.7)\n",
    "\n",
    "print(feature_take_or_not)\n",
    "\n",
    "print(Best)\n",
    "\n",
    "true_number = np.array(np.unique(feature_take_or_not, return_counts=True)).T\n",
    "\n",
    "\n",
    "bestX = X[:, gene_take_or_not]\n",
    "\n",
    "print(true_number)\n",
    "\n",
    "s = svm.SVC(kernel=\"linear\")\n",
    "loocv = LeaveOneOut()\n",
    "evaluation = cross_val_score(s, bestX, y,  cv=loocv)\n",
    "print(\"Final Accuracy: %.6f%% (%.6f%%)\" % (evaluation.mean(), evaluation.std()))\n",
    "\n",
    "total = ((df.drop(\"Label\", axis=1).columns.values, gene_take_or_not, Best))\n",
    "\n",
    "df2 = pd.DataFrame(total, [\"Features\", \"Selection\", \"Importance\"])\n",
    "df2.to_excel(f\"FF-SVM-Feature-Selection-{file_}\", index=False)"
   ]
  },
  {
   "cell_type": "code",
   "execution_count": null,
   "metadata": {},
   "outputs": [],
   "source": [
    "from sklearn.metrics import accuracy_score\n",
    "forest_model = RandomForestRegressor(n_estimators = 100, random_state = 1)\n",
    "forest_model.fit(train_X, train_y)\n",
    "melb_preds = forest_model.predict(val_X)\n",
    "print(\"MAE using RandomForestRegressor: \" + str(mean_absolute_error(val_y, melb_preds)))\n",
    "\n",
    "MSERandomFR = np.sqrt(mean_squared_error(val_y, melb_preds))\n",
    "print(\"MSE using RandomForestRegressor: \" + str(MSERandomFR))\n",
    "\n",
    "\n",
    "x_ax = range(len(val_y))\n",
    "plt.plot(x_ax, val_y, label=\"original\")\n",
    "plt.plot(x_ax, melb_preds, label=\"predicted\")\n",
    "plt.title(\"RandomForestRegressor\")\n",
    "plt.xlabel('X-axis')\n",
    "plt.ylabel('Y-axis')\n",
    "plt.legend(loc='best',fancybox=True, shadow=True)\n",
    "plt.grid(True)\n",
    "plt.show()\n"
   ]
  },
  {
   "attachments": {},
   "cell_type": "markdown",
   "metadata": {},
   "source": [
    "# DecisionTreeRegressor"
   ]
  },
  {
   "cell_type": "code",
   "execution_count": null,
   "metadata": {},
   "outputs": [],
   "source": [
    "dtr_model = DecisionTreeRegressor()\n",
    "# Fit model\n",
    "dtr_model.fit(train_X, train_y)\n",
    "\n",
    "# get predicted prices on validation data\n",
    "val_predictions = dtr_model.predict(val_X)\n",
    "print(\"MAE using DecisionTreeRegressor: \" +\n",
    "      str(mean_absolute_error(val_y, val_predictions)))\n",
    "\n",
    "MSEDTR = np.sqrt(mean_squared_error(val_y, val_predictions))\n",
    "print(\"MSE using DecisionTreeRegressor: \" + str(MSEDTR))\n",
    "\n",
    "x_ax = range(len(val_y))\n",
    "plt.plot(x_ax, val_y, label=\"original\")\n",
    "plt.plot(x_ax, val_predictions, label=\"predicted\")\n",
    "plt.title(\"DecisionTreeRegressor\")\n",
    "plt.xlabel('X-axis')\n",
    "plt.ylabel('Y-axis')\n",
    "plt.legend(loc='best',fancybox=True, shadow=True)\n",
    "plt.grid(True)\n",
    "plt.show()"
   ]
  },
  {
   "attachments": {},
   "cell_type": "markdown",
   "metadata": {},
   "source": [
    "# LinearRegression"
   ]
  },
  {
   "cell_type": "code",
   "execution_count": null,
   "metadata": {},
   "outputs": [],
   "source": [
    "lin_reg = LinearRegression()\n",
    "lin_reg.fit(train_X, train_y)\n",
    "\n",
    "# Calculate train set accuracy using mean absolute error\n",
    "print(\"MAR using LinearRegression: \" + str(mean_absolute_error(lin_reg.predict(val_X), val_y)))\n",
    "\n",
    "# Calculate train set accuracy using root mean square\n",
    "MSELR = np.sqrt(mean_squared_error(lin_reg.predict(val_X), val_y))\n",
    "print(\"MSE using LinearRegression: \" + str(MSELR))\n",
    "\n",
    "\n",
    "\n",
    "x_ax = range(len(val_y))\n",
    "plt.plot(x_ax, val_y, label=\"original\")\n",
    "plt.plot(x_ax, lin_reg.predict(val_X), label=\"predicted\")\n",
    "plt.title(\"LinearRegression\")\n",
    "plt.xlabel('X-axis')\n",
    "plt.ylabel('Y-axis')\n",
    "plt.legend(loc='best',fancybox=True, shadow=True)\n",
    "plt.grid(True)\n",
    "plt.show()"
   ]
  },
  {
   "cell_type": "code",
   "execution_count": null,
   "metadata": {},
   "outputs": [],
   "source": [
    "print(\"MAE using RandomForestRegressor: \" + str(mean_absolute_error(val_y, melb_preds)))\n",
    "print(\"MSE using RandomForestRegressor: \" + str(MSERandomFR))\n",
    "print(\"MAE using DecisionTreeRegressor: \" + str(mean_absolute_error(val_y, val_predictions)))\n",
    "print(\"MSE using DecisionTreeRegressor: \" + str(MSEDTR))\n",
    "print(\"MAR using LinearRegression: \" + str(mean_absolute_error(lin_reg.predict(val_X), val_y)))\n",
    "print(\"MSE using LinearRegression: \" + str(MSELR))"
   ]
  },
  {
   "attachments": {},
   "cell_type": "markdown",
   "metadata": {},
   "source": [
    "## RandomForestRegressor function with tuning n_estimators parameter"
   ]
  },
  {
   "cell_type": "code",
   "execution_count": null,
   "metadata": {},
   "outputs": [],
   "source": [
    "def get_score(n_estimators):\n",
    "    my_pipeline = Pipeline(steps=[\n",
    "        ('preprocessor', SimpleImputer()),\n",
    "        ('model', RandomForestRegressor(n_estimators, random_state=0))\n",
    "    ])\n",
    "    scores = -1 * cross_val_score(my_pipeline, X, y,\n",
    "                                  cv=3,\n",
    "                                  scoring='neg_mean_absolute_error')\n",
    "    return scores.mean()"
   ]
  },
  {
   "attachments": {},
   "cell_type": "markdown",
   "metadata": {},
   "source": [
    "## Plot with results of multiple n_estimator values"
   ]
  },
  {
   "cell_type": "code",
   "execution_count": null,
   "metadata": {},
   "outputs": [],
   "source": [
    "results = {} # Your code here\n",
    "for i in range(50,450, 50):\n",
    "    results[i]= get_score(i)\n",
    "\n",
    "%matplotlib inline\n",
    "\n",
    "plt.plot(list(results.keys()), list(results.values()))\n",
    "plt.show()\n"
   ]
  },
  {
   "attachments": {},
   "cell_type": "markdown",
   "metadata": {},
   "source": [
    "### Showing best result"
   ]
  },
  {
   "cell_type": "code",
   "execution_count": null,
   "metadata": {},
   "outputs": [],
   "source": [
    "#BEST RESULT\n",
    "\n",
    "print(\"RandomForestRegressor best result:\")\n",
    "print(\"n_estimators: \"+ str(min(results.items(), key=lambda x: x[1])[0]))\n",
    "print(\"mean_absolute_error: \"+ str(min(results.items(), key=lambda x: x[1])[1]))"
   ]
  },
  {
   "attachments": {},
   "cell_type": "markdown",
   "metadata": {},
   "source": [
    "## Pipeline of Different Models -> needs improvement"
   ]
  },
  {
   "cell_type": "code",
   "execution_count": null,
   "metadata": {},
   "outputs": [],
   "source": [
    "my_pipeline = Pipeline(steps=[('preprocessor', SimpleImputer()),\n",
    "                              ('model', RandomForestRegressor(n_estimators=50,\n",
    "                                                              random_state=0))\n",
    "                              ])\n",
    "\n",
    "# Multiply by -1 since sklearn calculates *negative* MAE\n",
    "scores = -1 * cross_val_score(my_pipeline, X, y,\n",
    "                              cv=5,\n",
    "                              scoring='neg_mean_absolute_error')\n",
    "print(scores)\n",
    "print(\"RandomForestRegressor\\nAverage MAE score (across experiments):\")\n",
    "print(scores.mean())\n",
    "\n",
    "my_pipeline = Pipeline(steps=[('preprocessor', SimpleImputer()),\n",
    "                              ('model', LogisticRegression(\n",
    "                                  solver='liblinear', multi_class='ovr'))\n",
    "                              ])\n",
    "\n",
    "# Multiply by -1 since sklearn calculates *negative* MAE\n",
    "scores = -1 * cross_val_score(my_pipeline, X, y,\n",
    "                              cv=5,\n",
    "                              scoring='neg_mean_absolute_error')\n",
    "\n",
    "print(\"LogisticRegression\\nAverage MAE score (across experiments):\")\n",
    "print(scores.mean())\n",
    "\n",
    "my_pipeline = Pipeline(steps=[('preprocessor', SimpleImputer()),\n",
    "                              ('model', KNeighborsRegressor())\n",
    "                              ])\n",
    "\n",
    "# Multiply by -1 since sklearn calculates *negative* MAE\n",
    "scores = -1 * cross_val_score(my_pipeline, X, y,\n",
    "                              cv=5,\n",
    "                              scoring='neg_mean_absolute_error')\n",
    "\n",
    "print(\"KNeighborsRegressor\\nAverage MAE score (across experiments):\")\n",
    "print(scores.mean())\n",
    "\n"
   ]
  },
  {
   "attachments": {},
   "cell_type": "markdown",
   "metadata": {},
   "source": [
    "SGDRegressor test example -> needs improvement"
   ]
  },
  {
   "cell_type": "code",
   "execution_count": null,
   "metadata": {},
   "outputs": [],
   "source": [
    "sgdr = SGDRegressor(penalty='elasticnet')\n",
    "sgdr.fit(train_X, train_y)\n",
    "\n",
    "score = sgdr.score(train_X, train_y)\n",
    "print(\"R-squared:\", score)\n",
    "\n",
    "# cv_score = cross_val_score(lsvr, x, y, cv=5)\n",
    "# print(\"CV mean score: \", cv_score.mean())\n",
    "\n",
    "ypred = sgdr.predict(val_X)\n",
    "\n",
    "mse = mean_squared_error(val_y, ypred)\n",
    "print(\"MSE: \", mse)\n",
    "print(\"RMSE: \", mse**(1/2.0))\n",
    "\n",
    "x_ax = range(len(val_y))\n",
    "plt.plot(x_ax, val_y, label=\"original\")\n",
    "plt.plot(x_ax, ypred, label=\"predicted\")\n",
    "plt.title(\"Boston test and predicted data\")\n",
    "plt.xlabel('X-axis')\n",
    "plt.ylabel('Y-axis')\n",
    "plt.legend(loc='best',fancybox=True, shadow=True)\n",
    "plt.grid(True)\n",
    "plt.show()\n",
    "\n",
    "# sgdr = SGDRegressor()\n",
    "# print(sgdr)\n",
    "\n",
    "# sgdr.fit(train_X, train_y)\n",
    "\n",
    "# score = sgdr.score(train_X, train_y)\n",
    "# print(\"R-squared:\", score)\n",
    "\n",
    "# cv_score = cross_val_score(sgdr, X, y, cv = 10)\n",
    "# print(\"CV mean score: \", cv_score.mean())\n",
    "\n",
    "# ypred = sgdr.predict(val_X)\n",
    "\n",
    "# mae = mean_absolute_error(val_y, ypred)\n",
    "# mse = mean_squared_error(val_y, ypred)\n",
    "# print(\"MAE: \", mae)\n",
    "# print(\"MSE: \", mse)\n",
    "# print(\"RMSE: \", mse**(1/2.0))\n",
    "\n"
   ]
  }
 ],
 "metadata": {
  "kernelspec": {
   "display_name": "base",
   "language": "python",
   "name": "python3"
  },
  "language_info": {
   "codemirror_mode": {
    "name": "ipython",
    "version": 3
   },
   "file_extension": ".py",
   "mimetype": "text/x-python",
   "name": "python",
   "nbconvert_exporter": "python",
   "pygments_lexer": "ipython3",
   "version": "3.9.13"
  },
  "orig_nbformat": 4,
  "vscode": {
   "interpreter": {
    "hash": "5e05cf6a1cc272ce805d689559e0c2ae9befb7a939b8e9ef5015add21976046d"
   }
  }
 },
 "nbformat": 4,
 "nbformat_minor": 2
}
