version https://git-lfs.github.com/spec/v1
oid sha256:d7679425290447f2ba926c76b116158b60f0d1e6ccc5cfe6deaa521f24eef4ad
size 1834866
